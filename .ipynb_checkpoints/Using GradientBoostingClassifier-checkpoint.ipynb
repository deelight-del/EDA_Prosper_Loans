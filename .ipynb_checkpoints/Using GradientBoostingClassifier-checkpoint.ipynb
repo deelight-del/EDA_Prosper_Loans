{
 "cells": [
  {
   "cell_type": "code",
   "execution_count": 234,
   "id": "2b909006",
   "metadata": {},
   "outputs": [],
   "source": [
    "#Import libraries\n",
    "import pandas as pd\n",
    "import numpy as np\n",
    "import seaborn as sns\n",
    "\n",
    "from sklearn.ensemble import GradientBoostingClassifier\n",
    "from sklearn.model_selection import GridSearchCV, RandomizedSearchCV, train_test_split\n",
    "\n",
    "from sklearn.metrics import classification_report, ConfusionMatrixDisplay, confusion_matrix, accuracy_score\n",
    "\n",
    "from sklearn.pipeline import make_pipeline\n",
    "\n",
    "from category_encoders import OrdinalEncoder\n",
    "\n",
    "import warnings\n",
    "warnings.filterwarnings(action = \"ignore\")"
   ]
  },
  {
   "cell_type": "markdown",
   "id": "28b85f86",
   "metadata": {},
   "source": [
    "### Load dataset and perform cleaning/EDA"
   ]
  },
  {
   "cell_type": "code",
   "execution_count": 166,
   "id": "97ee4898",
   "metadata": {},
   "outputs": [
    {
     "data": {
      "text/html": [
       "<div>\n",
       "<style scoped>\n",
       "    .dataframe tbody tr th:only-of-type {\n",
       "        vertical-align: middle;\n",
       "    }\n",
       "\n",
       "    .dataframe tbody tr th {\n",
       "        vertical-align: top;\n",
       "    }\n",
       "\n",
       "    .dataframe thead th {\n",
       "        text-align: right;\n",
       "    }\n",
       "</style>\n",
       "<table border=\"1\" class=\"dataframe\">\n",
       "  <thead>\n",
       "    <tr style=\"text-align: right;\">\n",
       "      <th></th>\n",
       "      <th>LoanStatus</th>\n",
       "      <th>TotalProsperLoans</th>\n",
       "      <th>OnTimeProsperPayments</th>\n",
       "      <th>ProsperPaymentsLessThanOneMonthLate</th>\n",
       "      <th>ProsperPrincipalBorrowed</th>\n",
       "      <th>ProsperPaymentsOneMonthPlusLate</th>\n",
       "      <th>BorrowerAPR</th>\n",
       "      <th>ListingCategory (numeric)</th>\n",
       "      <th>BorrowerState</th>\n",
       "      <th>EmploymentStatus</th>\n",
       "      <th>...</th>\n",
       "      <th>StatedMonthlyIncome</th>\n",
       "      <th>IncomeVerifiable</th>\n",
       "      <th>LoanOriginalAmount</th>\n",
       "      <th>MonthlyLoanPayment</th>\n",
       "      <th>ScorexChangeAtTimeOfListing</th>\n",
       "      <th>Term</th>\n",
       "      <th>ListingCreationDate</th>\n",
       "      <th>ProsperRating</th>\n",
       "      <th>Listing_Year</th>\n",
       "      <th>RevolveRatio</th>\n",
       "    </tr>\n",
       "  </thead>\n",
       "  <tbody>\n",
       "    <tr>\n",
       "      <th>0</th>\n",
       "      <td>Completed</td>\n",
       "      <td>0</td>\n",
       "      <td>-1</td>\n",
       "      <td>-1</td>\n",
       "      <td>0.0</td>\n",
       "      <td>-1</td>\n",
       "      <td>0.16516</td>\n",
       "      <td>0</td>\n",
       "      <td>CO</td>\n",
       "      <td>Self-employed</td>\n",
       "      <td>...</td>\n",
       "      <td>3083.333333</td>\n",
       "      <td>True</td>\n",
       "      <td>9425</td>\n",
       "      <td>330.43</td>\n",
       "      <td>NaN</td>\n",
       "      <td>36</td>\n",
       "      <td>2007-08-26</td>\n",
       "      <td>C</td>\n",
       "      <td>2007</td>\n",
       "      <td>0.007784</td>\n",
       "    </tr>\n",
       "    <tr>\n",
       "      <th>1</th>\n",
       "      <td>Current</td>\n",
       "      <td>0</td>\n",
       "      <td>-1</td>\n",
       "      <td>-1</td>\n",
       "      <td>0.0</td>\n",
       "      <td>-1</td>\n",
       "      <td>0.12016</td>\n",
       "      <td>2</td>\n",
       "      <td>CO</td>\n",
       "      <td>Employed</td>\n",
       "      <td>...</td>\n",
       "      <td>6125.000000</td>\n",
       "      <td>True</td>\n",
       "      <td>10000</td>\n",
       "      <td>318.93</td>\n",
       "      <td>NaN</td>\n",
       "      <td>36</td>\n",
       "      <td>2014-02-27</td>\n",
       "      <td>A</td>\n",
       "      <td>2014</td>\n",
       "      <td>0.063510</td>\n",
       "    </tr>\n",
       "    <tr>\n",
       "      <th>2</th>\n",
       "      <td>Completed</td>\n",
       "      <td>0</td>\n",
       "      <td>-1</td>\n",
       "      <td>-1</td>\n",
       "      <td>0.0</td>\n",
       "      <td>-1</td>\n",
       "      <td>0.28269</td>\n",
       "      <td>0</td>\n",
       "      <td>GA</td>\n",
       "      <td>Not available</td>\n",
       "      <td>...</td>\n",
       "      <td>2083.333333</td>\n",
       "      <td>True</td>\n",
       "      <td>3001</td>\n",
       "      <td>123.32</td>\n",
       "      <td>NaN</td>\n",
       "      <td>36</td>\n",
       "      <td>2007-01-05</td>\n",
       "      <td>HR</td>\n",
       "      <td>2007</td>\n",
       "      <td>0.000000</td>\n",
       "    </tr>\n",
       "    <tr>\n",
       "      <th>3</th>\n",
       "      <td>Current</td>\n",
       "      <td>0</td>\n",
       "      <td>-1</td>\n",
       "      <td>-1</td>\n",
       "      <td>0.0</td>\n",
       "      <td>-1</td>\n",
       "      <td>0.12528</td>\n",
       "      <td>16</td>\n",
       "      <td>GA</td>\n",
       "      <td>Employed</td>\n",
       "      <td>...</td>\n",
       "      <td>2875.000000</td>\n",
       "      <td>True</td>\n",
       "      <td>10000</td>\n",
       "      <td>321.45</td>\n",
       "      <td>NaN</td>\n",
       "      <td>36</td>\n",
       "      <td>2012-10-22</td>\n",
       "      <td>A</td>\n",
       "      <td>2012</td>\n",
       "      <td>0.040000</td>\n",
       "    </tr>\n",
       "    <tr>\n",
       "      <th>4</th>\n",
       "      <td>Current</td>\n",
       "      <td>1</td>\n",
       "      <td>11</td>\n",
       "      <td>0</td>\n",
       "      <td>11000.0</td>\n",
       "      <td>0</td>\n",
       "      <td>0.24614</td>\n",
       "      <td>2</td>\n",
       "      <td>MN</td>\n",
       "      <td>Employed</td>\n",
       "      <td>...</td>\n",
       "      <td>9583.333333</td>\n",
       "      <td>True</td>\n",
       "      <td>15000</td>\n",
       "      <td>563.97</td>\n",
       "      <td>NaN</td>\n",
       "      <td>36</td>\n",
       "      <td>2013-09-14</td>\n",
       "      <td>D</td>\n",
       "      <td>2013</td>\n",
       "      <td>0.022957</td>\n",
       "    </tr>\n",
       "  </tbody>\n",
       "</table>\n",
       "<p>5 rows × 34 columns</p>\n",
       "</div>"
      ],
      "text/plain": [
       "  LoanStatus  TotalProsperLoans  OnTimeProsperPayments  \\\n",
       "0  Completed                  0                     -1   \n",
       "1    Current                  0                     -1   \n",
       "2  Completed                  0                     -1   \n",
       "3    Current                  0                     -1   \n",
       "4    Current                  1                     11   \n",
       "\n",
       "   ProsperPaymentsLessThanOneMonthLate  ProsperPrincipalBorrowed  \\\n",
       "0                                   -1                       0.0   \n",
       "1                                   -1                       0.0   \n",
       "2                                   -1                       0.0   \n",
       "3                                   -1                       0.0   \n",
       "4                                    0                   11000.0   \n",
       "\n",
       "   ProsperPaymentsOneMonthPlusLate  BorrowerAPR  ListingCategory (numeric)  \\\n",
       "0                               -1      0.16516                          0   \n",
       "1                               -1      0.12016                          2   \n",
       "2                               -1      0.28269                          0   \n",
       "3                               -1      0.12528                         16   \n",
       "4                                0      0.24614                          2   \n",
       "\n",
       "  BorrowerState EmploymentStatus  ...  StatedMonthlyIncome IncomeVerifiable  \\\n",
       "0            CO    Self-employed  ...          3083.333333             True   \n",
       "1            CO         Employed  ...          6125.000000             True   \n",
       "2            GA    Not available  ...          2083.333333             True   \n",
       "3            GA         Employed  ...          2875.000000             True   \n",
       "4            MN         Employed  ...          9583.333333             True   \n",
       "\n",
       "   LoanOriginalAmount  MonthlyLoanPayment  ScorexChangeAtTimeOfListing  Term  \\\n",
       "0                9425              330.43                          NaN    36   \n",
       "1               10000              318.93                          NaN    36   \n",
       "2                3001              123.32                          NaN    36   \n",
       "3               10000              321.45                          NaN    36   \n",
       "4               15000              563.97                          NaN    36   \n",
       "\n",
       "   ListingCreationDate  ProsperRating  Listing_Year  RevolveRatio  \n",
       "0           2007-08-26              C          2007      0.007784  \n",
       "1           2014-02-27              A          2014      0.063510  \n",
       "2           2007-01-05             HR          2007      0.000000  \n",
       "3           2012-10-22              A          2012      0.040000  \n",
       "4           2013-09-14              D          2013      0.022957  \n",
       "\n",
       "[5 rows x 34 columns]"
      ]
     },
     "execution_count": 166,
     "metadata": {},
     "output_type": "execute_result"
    }
   ],
   "source": [
    "#Load data set\n",
    "df = pd.read_csv(\"Dataset/data_clean\")\n",
    "df.head()"
   ]
  },
  {
   "cell_type": "code",
   "execution_count": 167,
   "id": "9e8250a2",
   "metadata": {},
   "outputs": [
    {
     "name": "stdout",
     "output_type": "stream",
     "text": [
      "<class 'pandas.core.frame.DataFrame'>\n",
      "RangeIndex: 113932 entries, 0 to 113931\n",
      "Data columns (total 34 columns):\n",
      " #   Column                               Non-Null Count   Dtype  \n",
      "---  ------                               --------------   -----  \n",
      " 0   LoanStatus                           113932 non-null  object \n",
      " 1   TotalProsperLoans                    113932 non-null  int64  \n",
      " 2   OnTimeProsperPayments                113932 non-null  int64  \n",
      " 3   ProsperPaymentsLessThanOneMonthLate  113932 non-null  int64  \n",
      " 4   ProsperPrincipalBorrowed             113932 non-null  float64\n",
      " 5   ProsperPaymentsOneMonthPlusLate      113932 non-null  int64  \n",
      " 6   BorrowerAPR                          113932 non-null  float64\n",
      " 7   ListingCategory (numeric)            113932 non-null  int64  \n",
      " 8   BorrowerState                        108420 non-null  object \n",
      " 9   EmploymentStatus                     113932 non-null  object \n",
      " 10  CurrentlyInGroup                     113932 non-null  bool   \n",
      " 11  FirstRecordedCreditLine              113236 non-null  object \n",
      " 12  OpenCreditLines                      113932 non-null  int64  \n",
      " 13  OpenRevolvingAccounts                113932 non-null  int64  \n",
      " 14  OpenRevolvingMonthlyPayment          113932 non-null  float64\n",
      " 15  InquiriesLast6Months                 113236 non-null  float64\n",
      " 16  TotalInquiries                       112777 non-null  float64\n",
      " 17  AmountDelinquent                     113932 non-null  float64\n",
      " 18  CurrentDelinquencies                 113236 non-null  float64\n",
      " 19  DelinquenciesLast7Years              112945 non-null  float64\n",
      " 20  PublicRecordsLast12Months            106332 non-null  float64\n",
      " 21  PublicRecordsLast10Years             113236 non-null  float64\n",
      " 22  DebtToIncomeRatio                    113932 non-null  float64\n",
      " 23  IncomeRange                          113932 non-null  object \n",
      " 24  StatedMonthlyIncome                  113932 non-null  float64\n",
      " 25  IncomeVerifiable                     113932 non-null  bool   \n",
      " 26  LoanOriginalAmount                   113932 non-null  int64  \n",
      " 27  MonthlyLoanPayment                   113932 non-null  float64\n",
      " 28  ScorexChangeAtTimeOfListing          18928 non-null   float64\n",
      " 29  Term                                 113932 non-null  int64  \n",
      " 30  ListingCreationDate                  113932 non-null  object \n",
      " 31  ProsperRating                        113932 non-null  object \n",
      " 32  Listing_Year                         113932 non-null  int64  \n",
      " 33  RevolveRatio                         113820 non-null  float64\n",
      "dtypes: bool(2), float64(15), int64(10), object(7)\n",
      "memory usage: 28.0+ MB\n"
     ]
    }
   ],
   "source": [
    "#Check information about data\n",
    "df.info()"
   ]
  },
  {
   "cell_type": "code",
   "execution_count": 168,
   "id": "9e4ee6da",
   "metadata": {},
   "outputs": [],
   "source": [
    "#Drop the column borrower state\n",
    "\n",
    "df.drop(columns = \"BorrowerState\", inplace = True)"
   ]
  },
  {
   "cell_type": "code",
   "execution_count": 169,
   "id": "c7dd4be7",
   "metadata": {},
   "outputs": [],
   "source": [
    "#Drop the column PublicRecordsLast12Months\n",
    "\n",
    "df.drop(columns = \"PublicRecordsLast12Months\", inplace = True)"
   ]
  },
  {
   "cell_type": "code",
   "execution_count": 170,
   "id": "b350c099",
   "metadata": {},
   "outputs": [],
   "source": [
    "#Drop the column ScorexChangeAtTimeOfListing\n",
    "\n",
    "df.drop(columns = \"ScorexChangeAtTimeOfListing\", inplace = True)"
   ]
  },
  {
   "cell_type": "code",
   "execution_count": 171,
   "id": "6a27f447",
   "metadata": {},
   "outputs": [],
   "source": [
    "#Drop rows tha do not have entries of First RecordedLine\n",
    "\n",
    "df = df[~df[\"FirstRecordedCreditLine\"].isnull()]"
   ]
  },
  {
   "cell_type": "code",
   "execution_count": 172,
   "id": "bad4521c",
   "metadata": {},
   "outputs": [],
   "source": [
    "#Feature engineer the column FirstRecordedCreditLine to firstrecordedcredityear\n",
    "\n",
    "df[\"firstrecordedcredityear\"] = pd.to_datetime(df[\"FirstRecordedCreditLine\"]).dt.year"
   ]
  },
  {
   "cell_type": "code",
   "execution_count": 173,
   "id": "a56484bb",
   "metadata": {},
   "outputs": [],
   "source": [
    "#Drop FirstRecordedCreditLine \n",
    "\n",
    "df.drop(columns = \"FirstRecordedCreditLine\", inplace=True)"
   ]
  },
  {
   "cell_type": "code",
   "execution_count": 174,
   "id": "cce36248",
   "metadata": {},
   "outputs": [],
   "source": [
    "#Drop na\n",
    "\n",
    "df.dropna(inplace=True)"
   ]
  },
  {
   "cell_type": "code",
   "execution_count": 175,
   "id": "8beba403",
   "metadata": {},
   "outputs": [
    {
     "data": {
      "text/plain": [
       "0"
      ]
     },
     "execution_count": 175,
     "metadata": {},
     "output_type": "execute_result"
    }
   ],
   "source": [
    "df.isnull().sum().sum()"
   ]
  },
  {
   "cell_type": "code",
   "execution_count": 176,
   "id": "3d1ea1d5",
   "metadata": {},
   "outputs": [
    {
     "data": {
      "text/plain": [
       "<AxesSubplot:>"
      ]
     },
     "execution_count": 176,
     "metadata": {},
     "output_type": "execute_result"
    },
    {
     "data": {
      "image/png": "[encoded data removed]",
      "text/plain": [
       "<Figure size 432x288 with 1 Axes>"
      ]
     },
     "metadata": {
      "needs_background": "light"
     },
     "output_type": "display_data"
    }
   ],
   "source": [
    "#Class balance\n",
    "data[\"defaulted\"].value_counts(normalize = True).plot(kind = \"bar\")"
   ]
  },
  {
   "cell_type": "code",
   "execution_count": 208,
   "id": "fddaa399",
   "metadata": {},
   "outputs": [
    {
     "data": {
      "text/plain": [
       "15739              inf\n",
       "25457              inf\n",
       "69954              inf\n",
       "83949              inf\n",
       "72461              inf\n",
       "57893              inf\n",
       "39687              inf\n",
       "105702             inf\n",
       "35151              inf\n",
       "66819              inf\n",
       "28721     4.682419e+04\n",
       "109119    3.855615e+04\n",
       "8461      3.806415e+04\n",
       "226       3.439214e+04\n",
       "82318     3.319213e+04\n",
       "103546    2.754011e+04\n",
       "103606    2.640011e+04\n",
       "67695     2.636411e+04\n",
       "109041    2.618410e+04\n",
       "60563     2.600410e+04\n",
       "55168     2.583610e+04\n",
       "81982     2.328009e+04\n",
       "19884     2.149209e+04\n",
       "Name: RevolveRatio, dtype: float64"
      ]
     },
     "execution_count": 208,
     "metadata": {},
     "output_type": "execute_result"
    }
   ],
   "source": [
    "#Replace revolve ratio infinity values with 50,000 (A value not as high the previous values in dataset)\n",
    "df[\"RevolveRatio\"].sort_values(ascending=False)[1267:1290]"
   ]
  },
  {
   "cell_type": "code",
   "execution_count": 210,
   "id": "15aef9cb",
   "metadata": {},
   "outputs": [],
   "source": [
    "#Replace\n",
    "df[\"RevolveRatio\"] = df[\"RevolveRatio\"].replace(np.inf, 50_000)"
   ]
  },
  {
   "cell_type": "code",
   "execution_count": 211,
   "id": "85ebb7c8",
   "metadata": {},
   "outputs": [
    {
     "data": {
      "text/plain": [
       "15739     50000.000000\n",
       "25457     50000.000000\n",
       "69954     50000.000000\n",
       "83949     50000.000000\n",
       "72461     50000.000000\n",
       "57893     50000.000000\n",
       "39687     50000.000000\n",
       "105702    50000.000000\n",
       "35151     50000.000000\n",
       "66819     50000.000000\n",
       "28721     46824.187297\n",
       "109119    38556.154225\n",
       "8461      38064.152257\n",
       "226       34392.137569\n",
       "82318     33192.132769\n",
       "103546    27540.110160\n",
       "103606    26400.105600\n",
       "67695     26364.105456\n",
       "109041    26184.104736\n",
       "60563     26004.104016\n",
       "55168     25836.103344\n",
       "81982     23280.093120\n",
       "19884     21492.085968\n",
       "Name: RevolveRatio, dtype: float64"
      ]
     },
     "execution_count": 211,
     "metadata": {},
     "output_type": "execute_result"
    }
   ],
   "source": [
    "#Check new values\n",
    "df[\"RevolveRatio\"].sort_values(ascending=False)[1267:1290]"
   ]
  },
  {
   "cell_type": "code",
   "execution_count": 177,
   "id": "d7983290",
   "metadata": {},
   "outputs": [
    {
     "name": "stdout",
     "output_type": "stream",
     "text": [
      "<class 'pandas.core.frame.DataFrame'>\n",
      "Int64Index: 112577 entries, 0 to 113931\n",
      "Data columns (total 31 columns):\n",
      " #   Column                               Non-Null Count   Dtype  \n",
      "---  ------                               --------------   -----  \n",
      " 0   LoanStatus                           112577 non-null  object \n",
      " 1   TotalProsperLoans                    112577 non-null  int64  \n",
      " 2   OnTimeProsperPayments                112577 non-null  int64  \n",
      " 3   ProsperPaymentsLessThanOneMonthLate  112577 non-null  int64  \n",
      " 4   ProsperPrincipalBorrowed             112577 non-null  float64\n",
      " 5   ProsperPaymentsOneMonthPlusLate      112577 non-null  int64  \n",
      " 6   BorrowerAPR                          112577 non-null  float64\n",
      " 7   ListingCategory (numeric)            112577 non-null  int64  \n",
      " 8   EmploymentStatus                     112577 non-null  object \n",
      " 9   CurrentlyInGroup                     112577 non-null  bool   \n",
      " 10  OpenCreditLines                      112577 non-null  int64  \n",
      " 11  OpenRevolvingAccounts                112577 non-null  int64  \n",
      " 12  OpenRevolvingMonthlyPayment          112577 non-null  float64\n",
      " 13  InquiriesLast6Months                 112577 non-null  float64\n",
      " 14  TotalInquiries                       112577 non-null  float64\n",
      " 15  AmountDelinquent                     112577 non-null  float64\n",
      " 16  CurrentDelinquencies                 112577 non-null  float64\n",
      " 17  DelinquenciesLast7Years              112577 non-null  float64\n",
      " 18  PublicRecordsLast10Years             112577 non-null  float64\n",
      " 19  DebtToIncomeRatio                    112577 non-null  float64\n",
      " 20  IncomeRange                          112577 non-null  object \n",
      " 21  StatedMonthlyIncome                  112577 non-null  float64\n",
      " 22  IncomeVerifiable                     112577 non-null  bool   \n",
      " 23  LoanOriginalAmount                   112577 non-null  int64  \n",
      " 24  MonthlyLoanPayment                   112577 non-null  float64\n",
      " 25  Term                                 112577 non-null  int64  \n",
      " 26  ListingCreationDate                  112577 non-null  object \n",
      " 27  ProsperRating                        112577 non-null  object \n",
      " 28  Listing_Year                         112577 non-null  int64  \n",
      " 29  RevolveRatio                         112577 non-null  float64\n",
      " 30  firstrecordedcredityear              112577 non-null  int64  \n",
      "dtypes: bool(2), float64(13), int64(11), object(5)\n",
      "memory usage: 26.0+ MB\n"
     ]
    }
   ],
   "source": [
    "df.info()"
   ]
  },
  {
   "cell_type": "markdown",
   "id": "c5329f8e",
   "metadata": {},
   "source": [
    "### Split the dataset\n",
    "- What we want to do is to split our dataset and use that algorithm to predict foe those still currently paying whether they will default or not."
   ]
  },
  {
   "cell_type": "code",
   "execution_count": 220,
   "id": "2bdbc335",
   "metadata": {},
   "outputs": [],
   "source": [
    "#DRop those who are currently paying\n",
    "\n",
    "data = df[df[\"LoanStatus\"] != \"Current\"]"
   ]
  },
  {
   "cell_type": "code",
   "execution_count": 221,
   "id": "ddbc2e93",
   "metadata": {},
   "outputs": [],
   "source": [
    "#Create column defaulted, where 1 represents yes and 0 represents 0 and completed\n",
    "\n",
    "#Create function for that\n",
    "\n",
    "def is_defaulted(x):\n",
    "    if x == \"Completed\":\n",
    "        return 0\n",
    "    else:\n",
    "        return 1"
   ]
  },
  {
   "cell_type": "code",
   "execution_count": 222,
   "id": "7bb10ab0",
   "metadata": {},
   "outputs": [],
   "source": [
    "data[\"defaulted\"] = data[\"LoanStatus\"].apply(is_defaulted)"
   ]
  },
  {
   "cell_type": "code",
   "execution_count": 223,
   "id": "0e326f4b",
   "metadata": {},
   "outputs": [],
   "source": [
    "#Drop LoanStatus columns\n",
    "\n",
    "data.drop(columns = \"LoanStatus\", inplace = True)"
   ]
  },
  {
   "cell_type": "code",
   "execution_count": 224,
   "id": "7a015b57",
   "metadata": {},
   "outputs": [],
   "source": [
    "#Split dataset into training and testing\n",
    "\n",
    "target = \"defaulted\"\n",
    "X = data.drop(columns = target)\n",
    "y = data[target]"
   ]
  },
  {
   "cell_type": "code",
   "execution_count": 225,
   "id": "e551a16c",
   "metadata": {},
   "outputs": [],
   "source": [
    "#Split into train and test dataset\n",
    "\n",
    "X_train, X_test, y_train, y_test = train_test_split(\n",
    "    X, y, random_state = 42, test_size = 0.2\n",
    ")"
   ]
  },
  {
   "cell_type": "markdown",
   "id": "d17ef811",
   "metadata": {},
   "source": [
    "### Set baseline for model"
   ]
  },
  {
   "cell_type": "code",
   "execution_count": 236,
   "id": "93e7b7a2",
   "metadata": {},
   "outputs": [
    {
     "data": {
      "text/plain": [
       "0.6668906810035843"
      ]
     },
     "execution_count": 236,
     "metadata": {},
     "output_type": "execute_result"
    }
   ],
   "source": [
    "y_train.value_counts(normalize = True).max()"
   ]
  },
  {
   "cell_type": "markdown",
   "id": "bce93e76",
   "metadata": {},
   "source": [
    "### Begin Model Iteration"
   ]
  },
  {
   "cell_type": "code",
   "execution_count": 226,
   "id": "69b6e596",
   "metadata": {},
   "outputs": [],
   "source": [
    "#Initiate model\n",
    "\n",
    "clf = make_pipeline(OrdinalEncoder(),\n",
    "                    GradientBoostingClassifier())"
   ]
  },
  {
   "cell_type": "code",
   "execution_count": 227,
   "id": "d95b6dfa",
   "metadata": {},
   "outputs": [
    {
     "data": {
      "text/plain": [
       "{'gradientboostingclassifier__n_estimators': range(50, 401, 50),\n",
       " 'gradientboostingclassifier__subsample': array([0.3, 0.6, 0.9]),\n",
       " 'gradientboostingclassifier__max_depth': [3, 5, 7],\n",
       " 'gradientboostingclassifier__max_features': ['sqrt', 'log2']}"
      ]
     },
     "execution_count": 227,
     "metadata": {},
     "output_type": "execute_result"
    }
   ],
   "source": [
    "#Initiate paremeter\n",
    "\n",
    "param = {\n",
    "    \"gradientboostingclassifier__n_estimators\": range(50, 401, 50),\n",
    "    \"gradientboostingclassifier__subsample\": np.arange(0.3, 1.0, 0.3),\n",
    "    \"gradientboostingclassifier__max_depth\": [3, 5, 7],\n",
    "    \"gradientboostingclassifier__max_features\": [\"sqrt\", \"log2\"]\n",
    "}\n",
    "param"
   ]
  },
  {
   "cell_type": "code",
   "execution_count": 228,
   "id": "1ee0e75c",
   "metadata": {},
   "outputs": [],
   "source": [
    "#Use paramater is RandomizedSearch\n",
    "\n",
    "model = RandomizedSearchCV(clf, \n",
    "                   param_distributions=param,\n",
    "                   cv = 5, n_jobs=-1,\n",
    "                   n_iter=200, verbose=1,\n",
    "                   random_state=42\n",
    "                  )"
   ]
  },
  {
   "cell_type": "code",
   "execution_count": 229,
   "id": "11ad7220",
   "metadata": {},
   "outputs": [
    {
     "name": "stdout",
     "output_type": "stream",
     "text": [
      "Fitting 5 folds for each of 144 candidates, totalling 720 fits\n"
     ]
    },
    {
     "data": {
      "text/plain": [
       "RandomizedSearchCV(cv=5,\n",
       "                   estimator=Pipeline(steps=[('ordinalencoder',\n",
       "                                              OrdinalEncoder()),\n",
       "                                             ('gradientboostingclassifier',\n",
       "                                              GradientBoostingClassifier())]),\n",
       "                   n_iter=200, n_jobs=-1,\n",
       "                   param_distributions={'gradientboostingclassifier__max_depth': [3,\n",
       "                                                                                  5,\n",
       "                                                                                  7],\n",
       "                                        'gradientboostingclassifier__max_features': ['sqrt',\n",
       "                                                                                     'log2'],\n",
       "                                        'gradientboostingclassifier__n_estimators': range(50, 401, 50),\n",
       "                                        'gradientboostingclassifier__subsample': array([0.3, 0.6, 0.9])},\n",
       "                   random_state=42, verbose=1)"
      ]
     },
     "execution_count": 229,
     "metadata": {},
     "output_type": "execute_result"
    }
   ],
   "source": [
    "model.fit(X_train, y_train)"
   ]
  },
  {
   "cell_type": "code",
   "execution_count": 232,
   "id": "45a358f7",
   "metadata": {},
   "outputs": [
    {
     "name": "stdout",
     "output_type": "stream",
     "text": [
      "The model best score is given as 0.72\n"
     ]
    }
   ],
   "source": [
    "print(f\"The model best score is given as {round(model.best_score_, 2)} and the \")"
   ]
  },
  {
   "cell_type": "markdown",
   "id": "eddde673",
   "metadata": {},
   "source": [
    "With a baseline score of 0.66,we beat the baseline by a marging of 0.06. We might conisder oversampling our minority class in the dataset to improve the signal and possibly the model score."
   ]
  },
  {
   "cell_type": "code",
   "execution_count": 233,
   "id": "666cd997",
   "metadata": {},
   "outputs": [
    {
     "data": {
      "text/plain": [
       "{'gradientboostingclassifier__subsample': 0.8999999999999999,\n",
       " 'gradientboostingclassifier__n_estimators': 350,\n",
       " 'gradientboostingclassifier__max_features': 'sqrt',\n",
       " 'gradientboostingclassifier__max_depth': 3}"
      ]
     },
     "execution_count": 233,
     "metadata": {},
     "output_type": "execute_result"
    }
   ],
   "source": [
    "model.best_params_"
   ]
  },
  {
   "cell_type": "markdown",
   "id": "7c18830a",
   "metadata": {},
   "source": [
    "From the above, we see the best parameters as given above"
   ]
  },
  {
   "cell_type": "code",
   "execution_count": 260,
   "id": "07e8d3af",
   "metadata": {},
   "outputs": [],
   "source": [
    "#Increase model precision\n",
    "\n",
    "model_predictions = (model.predict_proba(X_train)[:, 1] > 0.7).astype(int)"
   ]
  },
  {
   "cell_type": "code",
   "execution_count": 255,
   "id": "85b7e97d",
   "metadata": {},
   "outputs": [],
   "source": [
    "#model_predictions = model.predict(X_train)"
   ]
  },
  {
   "cell_type": "code",
   "execution_count": 261,
   "id": "34a1b529",
   "metadata": {},
   "outputs": [
    {
     "data": {
      "image/png": "[encoded data removed]",
      "text/plain": [
       "<Figure size 432x288 with 2 Axes>"
      ]
     },
     "metadata": {
      "needs_background": "light"
     },
     "output_type": "display_data"
    }
   ],
   "source": [
    "ConfusionMatrixDisplay.from_predictions(y_train, model_predictions);"
   ]
  },
  {
   "cell_type": "code",
   "execution_count": 262,
   "id": "05f77e6e",
   "metadata": {},
   "outputs": [
    {
     "name": "stdout",
     "output_type": "stream",
     "text": [
      "              precision    recall  f1-score   support\n",
      "\n",
      "           0       0.69      0.99      0.82     29770\n",
      "           1       0.84      0.13      0.22     14870\n",
      "\n",
      "    accuracy                           0.70     44640\n",
      "   macro avg       0.77      0.56      0.52     44640\n",
      "weighted avg       0.74      0.70      0.62     44640\n",
      "\n"
     ]
    }
   ],
   "source": [
    "print(classification_report(y_train, model_predictions))"
   ]
  },
  {
   "cell_type": "markdown",
   "id": "942cd7a3",
   "metadata": {},
   "source": [
    "From this we have a model that predicts that a person is going to default a loan by a precision of **84%**. Going further to use this model on a test set."
   ]
  },
  {
   "cell_type": "markdown",
   "id": "88131dcf",
   "metadata": {},
   "source": [
    "### Evaluating Model on Test set"
   ]
  },
  {
   "cell_type": "code",
   "execution_count": 263,
   "id": "54b64809",
   "metadata": {},
   "outputs": [],
   "source": [
    "test_model_predictions = (model.predict_proba(X_test)[:, 1] > 0.7).astype(int)"
   ]
  },
  {
   "cell_type": "code",
   "execution_count": 264,
   "id": "906c45b9",
   "metadata": {},
   "outputs": [
    {
     "data": {
      "image/png": "[encoded data removed]",
      "text/plain": [
       "<Figure size 432x288 with 2 Axes>"
      ]
     },
     "metadata": {
      "needs_background": "light"
     },
     "output_type": "display_data"
    }
   ],
   "source": [
    "ConfusionMatrixDisplay.from_predictions(y_test, test_model_predictions);"
   ]
  },
  {
   "cell_type": "code",
   "execution_count": 265,
   "id": "ce9c8880",
   "metadata": {},
   "outputs": [
    {
     "name": "stdout",
     "output_type": "stream",
     "text": [
      "              precision    recall  f1-score   support\n",
      "\n",
      "           0       0.69      0.99      0.81      7417\n",
      "           1       0.80      0.12      0.20      3744\n",
      "\n",
      "    accuracy                           0.69     11161\n",
      "   macro avg       0.75      0.55      0.51     11161\n",
      "weighted avg       0.73      0.69      0.61     11161\n",
      "\n"
     ]
    }
   ],
   "source": [
    "print(classification_report(y_test, test_model_predictions))"
   ]
  },
  {
   "cell_type": "markdown",
   "id": "f27120e6",
   "metadata": {},
   "source": [
    "The model shows low variance in the results obtained, a good model for consideration that can generalize well. Now let us apply it to a real world scenarios of current loan payers"
   ]
  },
  {
   "cell_type": "markdown",
   "id": "6ac49d59",
   "metadata": {},
   "source": [
    "### Evaluating Model on Real life data set"
   ]
  },
  {
   "cell_type": "code",
   "execution_count": 268,
   "id": "6d0568f8",
   "metadata": {},
   "outputs": [],
   "source": [
    "rl = df[df[\"LoanStatus\"] == \"Current\"].drop(columns = \"LoanStatus\")"
   ]
  },
  {
   "cell_type": "code",
   "execution_count": 269,
   "id": "89e3d4d9",
   "metadata": {},
   "outputs": [
    {
     "data": {
      "text/plain": [
       "array([0, 0, 0, ..., 0, 0, 0])"
      ]
     },
     "execution_count": 269,
     "metadata": {},
     "output_type": "execute_result"
    }
   ],
   "source": [
    "rl_pred = (model.predict_proba(rl)[:, 1] > 0.7).astype(int)\n",
    "rl_pred"
   ]
  },
  {
   "cell_type": "code",
   "execution_count": 273,
   "id": "675185dd",
   "metadata": {},
   "outputs": [
    {
     "name": "stdout",
     "output_type": "stream",
     "text": [
      "The model predicts that 513 people will default on their loan with a precicion of about 80%\n"
     ]
    }
   ],
   "source": [
    "print(f\"The model predicts that {rl_pred.sum()} people will default on their loan with a precicion of about 80%\")"
   ]
  },
  {
   "cell_type": "markdown",
   "id": "4dc7c23b",
   "metadata": {},
   "source": [
    "The model still does not perform very well with catching only 513 people at 80% precision. But it could serve as a good baseline model...\n",
    "\n",
    "- In other to find more good use of the model, a datframe for the prediction could be made and each id could be the index of such table. This information could then be used by the custom care to take actions of loans that are currently being paid"
   ]
  },
  {
   "cell_type": "code",
   "execution_count": null,
   "id": "323f5f1a",
   "metadata": {},
   "outputs": [],
   "source": []
  },
  {
   "cell_type": "code",
   "execution_count": null,
   "id": "df264b9b",
   "metadata": {},
   "outputs": [],
   "source": []
  },
  {
   "cell_type": "code",
   "execution_count": null,
   "id": "f1226a2b",
   "metadata": {},
   "outputs": [],
   "source": []
  },
  {
   "cell_type": "code",
   "execution_count": null,
   "id": "aefce2dc",
   "metadata": {},
   "outputs": [],
   "source": []
  },
  {
   "cell_type": "code",
   "execution_count": null,
   "id": "dbb9c1d8",
   "metadata": {},
   "outputs": [],
   "source": []
  },
  {
   "cell_type": "code",
   "execution_count": null,
   "id": "124f3674",
   "metadata": {},
   "outputs": [],
   "source": []
  },
  {
   "cell_type": "code",
   "execution_count": null,
   "id": "d8bfa915",
   "metadata": {},
   "outputs": [],
   "source": []
  },
  {
   "cell_type": "code",
   "execution_count": null,
   "id": "a4e5f55f",
   "metadata": {},
   "outputs": [],
   "source": []
  },
  {
   "cell_type": "code",
   "execution_count": null,
   "id": "288e1e95",
   "metadata": {},
   "outputs": [],
   "source": []
  },
  {
   "cell_type": "code",
   "execution_count": null,
   "id": "327cb376",
   "metadata": {},
   "outputs": [],
   "source": []
  },
  {
   "cell_type": "code",
   "execution_count": null,
   "id": "ac304462",
   "metadata": {},
   "outputs": [],
   "source": []
  },
  {
   "cell_type": "code",
   "execution_count": null,
   "id": "3d0315f1",
   "metadata": {},
   "outputs": [],
   "source": []
  }
 ],
 "metadata": {
  "kernelspec": {
   "display_name": "Python 3",
   "language": "python",
   "name": "python3"
  },
  "language_info": {
   "codemirror_mode": {
    "name": "ipython",
    "version": 3
   },
   "file_extension": ".py",
   "mimetype": "text/x-python",
   "name": "python",
   "nbconvert_exporter": "python",
   "pygments_lexer": "ipython3",
   "version": "3.8.5"
  }
 },
 "nbformat": 4,
 "nbformat_minor": 5
}
