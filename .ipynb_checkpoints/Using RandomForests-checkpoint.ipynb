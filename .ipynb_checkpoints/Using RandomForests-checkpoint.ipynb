{
 "cells": [
  {
   "cell_type": "code",
   "execution_count": 795,
   "id": "2b909006",
   "metadata": {},
   "outputs": [],
   "source": [
    "#Import libraries\n",
    "import pandas as pd\n",
    "import numpy as np\n",
    "import seaborn as sns\n",
    "\n",
    "from sklearn.ensemble import GradientBoostingClassifier, RandomForestClassifier\n",
    "from sklearn.model_selection import GridSearchCV, RandomizedSearchCV, train_test_split\n",
    "\n",
    "from sklearn.metrics import classification_report, ConfusionMatrixDisplay, confusion_matrix, accuracy_score\n",
    "\n",
    "from sklearn.pipeline import make_pipeline\n",
    "\n",
    "from sklearn.inspection import plot_partial_dependence\n",
    "\n",
    "from category_encoders import OrdinalEncoder\n",
    "\n",
    "from waterfall_chart import plot as water_fall\n",
    "\n",
    "from treeinterpreter import treeinterpreter\n",
    "\n",
    "from fastbook import *\n",
    "\n",
    "import warnings\n",
    "warnings.filterwarnings(action = \"ignore\")"
   ]
  },
  {
   "cell_type": "markdown",
   "id": "28b85f86",
   "metadata": {},
   "source": [
    "### Load dataset and perform cleaning/EDA"
   ]
  },
  {
   "cell_type": "code",
   "execution_count": 42,
   "id": "97ee4898",
   "metadata": {},
   "outputs": [
    {
     "data": {
      "text/html": [
       "<div>\n",
       "<style scoped>\n",
       "    .dataframe tbody tr th:only-of-type {\n",
       "        vertical-align: middle;\n",
       "    }\n",
       "\n",
       "    .dataframe tbody tr th {\n",
       "        vertical-align: top;\n",
       "    }\n",
       "\n",
       "    .dataframe thead th {\n",
       "        text-align: right;\n",
       "    }\n",
       "</style>\n",
       "<table border=\"1\" class=\"dataframe\">\n",
       "  <thead>\n",
       "    <tr style=\"text-align: right;\">\n",
       "      <th></th>\n",
       "      <th>LoanStatus</th>\n",
       "      <th>TotalProsperLoans</th>\n",
       "      <th>OnTimeProsperPayments</th>\n",
       "      <th>ProsperPaymentsLessThanOneMonthLate</th>\n",
       "      <th>ProsperPrincipalBorrowed</th>\n",
       "      <th>ProsperPaymentsOneMonthPlusLate</th>\n",
       "      <th>BorrowerAPR</th>\n",
       "      <th>ListingCategory (numeric)</th>\n",
       "      <th>BorrowerState</th>\n",
       "      <th>EmploymentStatus</th>\n",
       "      <th>...</th>\n",
       "      <th>StatedMonthlyIncome</th>\n",
       "      <th>IncomeVerifiable</th>\n",
       "      <th>LoanOriginalAmount</th>\n",
       "      <th>MonthlyLoanPayment</th>\n",
       "      <th>ScorexChangeAtTimeOfListing</th>\n",
       "      <th>Term</th>\n",
       "      <th>ListingCreationDate</th>\n",
       "      <th>ProsperRating</th>\n",
       "      <th>Listing_Year</th>\n",
       "      <th>RevolveRatio</th>\n",
       "    </tr>\n",
       "  </thead>\n",
       "  <tbody>\n",
       "    <tr>\n",
       "      <th>0</th>\n",
       "      <td>Completed</td>\n",
       "      <td>0</td>\n",
       "      <td>-1</td>\n",
       "      <td>-1</td>\n",
       "      <td>0.0</td>\n",
       "      <td>-1</td>\n",
       "      <td>0.16516</td>\n",
       "      <td>0</td>\n",
       "      <td>CO</td>\n",
       "      <td>Self-employed</td>\n",
       "      <td>...</td>\n",
       "      <td>3083.333333</td>\n",
       "      <td>True</td>\n",
       "      <td>9425</td>\n",
       "      <td>330.43</td>\n",
       "      <td>NaN</td>\n",
       "      <td>36</td>\n",
       "      <td>2007-08-26</td>\n",
       "      <td>C</td>\n",
       "      <td>2007</td>\n",
       "      <td>0.007784</td>\n",
       "    </tr>\n",
       "    <tr>\n",
       "      <th>1</th>\n",
       "      <td>Current</td>\n",
       "      <td>0</td>\n",
       "      <td>-1</td>\n",
       "      <td>-1</td>\n",
       "      <td>0.0</td>\n",
       "      <td>-1</td>\n",
       "      <td>0.12016</td>\n",
       "      <td>2</td>\n",
       "      <td>CO</td>\n",
       "      <td>Employed</td>\n",
       "      <td>...</td>\n",
       "      <td>6125.000000</td>\n",
       "      <td>True</td>\n",
       "      <td>10000</td>\n",
       "      <td>318.93</td>\n",
       "      <td>NaN</td>\n",
       "      <td>36</td>\n",
       "      <td>2014-02-27</td>\n",
       "      <td>A</td>\n",
       "      <td>2014</td>\n",
       "      <td>0.063510</td>\n",
       "    </tr>\n",
       "    <tr>\n",
       "      <th>2</th>\n",
       "      <td>Completed</td>\n",
       "      <td>0</td>\n",
       "      <td>-1</td>\n",
       "      <td>-1</td>\n",
       "      <td>0.0</td>\n",
       "      <td>-1</td>\n",
       "      <td>0.28269</td>\n",
       "      <td>0</td>\n",
       "      <td>GA</td>\n",
       "      <td>Not available</td>\n",
       "      <td>...</td>\n",
       "      <td>2083.333333</td>\n",
       "      <td>True</td>\n",
       "      <td>3001</td>\n",
       "      <td>123.32</td>\n",
       "      <td>NaN</td>\n",
       "      <td>36</td>\n",
       "      <td>2007-01-05</td>\n",
       "      <td>HR</td>\n",
       "      <td>2007</td>\n",
       "      <td>0.000000</td>\n",
       "    </tr>\n",
       "    <tr>\n",
       "      <th>3</th>\n",
       "      <td>Current</td>\n",
       "      <td>0</td>\n",
       "      <td>-1</td>\n",
       "      <td>-1</td>\n",
       "      <td>0.0</td>\n",
       "      <td>-1</td>\n",
       "      <td>0.12528</td>\n",
       "      <td>16</td>\n",
       "      <td>GA</td>\n",
       "      <td>Employed</td>\n",
       "      <td>...</td>\n",
       "      <td>2875.000000</td>\n",
       "      <td>True</td>\n",
       "      <td>10000</td>\n",
       "      <td>321.45</td>\n",
       "      <td>NaN</td>\n",
       "      <td>36</td>\n",
       "      <td>2012-10-22</td>\n",
       "      <td>A</td>\n",
       "      <td>2012</td>\n",
       "      <td>0.040000</td>\n",
       "    </tr>\n",
       "    <tr>\n",
       "      <th>4</th>\n",
       "      <td>Current</td>\n",
       "      <td>1</td>\n",
       "      <td>11</td>\n",
       "      <td>0</td>\n",
       "      <td>11000.0</td>\n",
       "      <td>0</td>\n",
       "      <td>0.24614</td>\n",
       "      <td>2</td>\n",
       "      <td>MN</td>\n",
       "      <td>Employed</td>\n",
       "      <td>...</td>\n",
       "      <td>9583.333333</td>\n",
       "      <td>True</td>\n",
       "      <td>15000</td>\n",
       "      <td>563.97</td>\n",
       "      <td>NaN</td>\n",
       "      <td>36</td>\n",
       "      <td>2013-09-14</td>\n",
       "      <td>D</td>\n",
       "      <td>2013</td>\n",
       "      <td>0.022957</td>\n",
       "    </tr>\n",
       "  </tbody>\n",
       "</table>\n",
       "<p>5 rows × 34 columns</p>\n",
       "</div>"
      ],
      "text/plain": [
       "  LoanStatus  TotalProsperLoans  OnTimeProsperPayments  \\\n",
       "0  Completed                  0                     -1   \n",
       "1    Current                  0                     -1   \n",
       "2  Completed                  0                     -1   \n",
       "3    Current                  0                     -1   \n",
       "4    Current                  1                     11   \n",
       "\n",
       "   ProsperPaymentsLessThanOneMonthLate  ProsperPrincipalBorrowed  \\\n",
       "0                                   -1                       0.0   \n",
       "1                                   -1                       0.0   \n",
       "2                                   -1                       0.0   \n",
       "3                                   -1                       0.0   \n",
       "4                                    0                   11000.0   \n",
       "\n",
       "   ProsperPaymentsOneMonthPlusLate  BorrowerAPR  ListingCategory (numeric)  \\\n",
       "0                               -1      0.16516                          0   \n",
       "1                               -1      0.12016                          2   \n",
       "2                               -1      0.28269                          0   \n",
       "3                               -1      0.12528                         16   \n",
       "4                                0      0.24614                          2   \n",
       "\n",
       "  BorrowerState EmploymentStatus  ...  StatedMonthlyIncome IncomeVerifiable  \\\n",
       "0            CO    Self-employed  ...          3083.333333             True   \n",
       "1            CO         Employed  ...          6125.000000             True   \n",
       "2            GA    Not available  ...          2083.333333             True   \n",
       "3            GA         Employed  ...          2875.000000             True   \n",
       "4            MN         Employed  ...          9583.333333             True   \n",
       "\n",
       "   LoanOriginalAmount  MonthlyLoanPayment  ScorexChangeAtTimeOfListing  Term  \\\n",
       "0                9425              330.43                          NaN    36   \n",
       "1               10000              318.93                          NaN    36   \n",
       "2                3001              123.32                          NaN    36   \n",
       "3               10000              321.45                          NaN    36   \n",
       "4               15000              563.97                          NaN    36   \n",
       "\n",
       "   ListingCreationDate  ProsperRating  Listing_Year  RevolveRatio  \n",
       "0           2007-08-26              C          2007      0.007784  \n",
       "1           2014-02-27              A          2014      0.063510  \n",
       "2           2007-01-05             HR          2007      0.000000  \n",
       "3           2012-10-22              A          2012      0.040000  \n",
       "4           2013-09-14              D          2013      0.022957  \n",
       "\n",
       "[5 rows x 34 columns]"
      ]
     },
     "execution_count": 42,
     "metadata": {},
     "output_type": "execute_result"
    }
   ],
   "source": [
    "#Load data set\n",
    "df = pd.read_csv(\"Dataset/data_clean\")\n",
    "df.head()"
   ]
  },
  {
   "cell_type": "code",
   "execution_count": 43,
   "id": "9e8250a2",
   "metadata": {},
   "outputs": [
    {
     "name": "stdout",
     "output_type": "stream",
     "text": [
      "<class 'pandas.core.frame.DataFrame'>\n",
      "RangeIndex: 113932 entries, 0 to 113931\n",
      "Data columns (total 34 columns):\n",
      " #   Column                               Non-Null Count   Dtype  \n",
      "---  ------                               --------------   -----  \n",
      " 0   LoanStatus                           113932 non-null  object \n",
      " 1   TotalProsperLoans                    113932 non-null  int64  \n",
      " 2   OnTimeProsperPayments                113932 non-null  int64  \n",
      " 3   ProsperPaymentsLessThanOneMonthLate  113932 non-null  int64  \n",
      " 4   ProsperPrincipalBorrowed             113932 non-null  float64\n",
      " 5   ProsperPaymentsOneMonthPlusLate      113932 non-null  int64  \n",
      " 6   BorrowerAPR                          113932 non-null  float64\n",
      " 7   ListingCategory (numeric)            113932 non-null  int64  \n",
      " 8   BorrowerState                        108420 non-null  object \n",
      " 9   EmploymentStatus                     113932 non-null  object \n",
      " 10  CurrentlyInGroup                     113932 non-null  bool   \n",
      " 11  FirstRecordedCreditLine              113236 non-null  object \n",
      " 12  OpenCreditLines                      113932 non-null  int64  \n",
      " 13  OpenRevolvingAccounts                113932 non-null  int64  \n",
      " 14  OpenRevolvingMonthlyPayment          113932 non-null  float64\n",
      " 15  InquiriesLast6Months                 113236 non-null  float64\n",
      " 16  TotalInquiries                       112777 non-null  float64\n",
      " 17  AmountDelinquent                     113932 non-null  float64\n",
      " 18  CurrentDelinquencies                 113236 non-null  float64\n",
      " 19  DelinquenciesLast7Years              112945 non-null  float64\n",
      " 20  PublicRecordsLast12Months            106332 non-null  float64\n",
      " 21  PublicRecordsLast10Years             113236 non-null  float64\n",
      " 22  DebtToIncomeRatio                    113932 non-null  float64\n",
      " 23  IncomeRange                          113932 non-null  object \n",
      " 24  StatedMonthlyIncome                  113932 non-null  float64\n",
      " 25  IncomeVerifiable                     113932 non-null  bool   \n",
      " 26  LoanOriginalAmount                   113932 non-null  int64  \n",
      " 27  MonthlyLoanPayment                   113932 non-null  float64\n",
      " 28  ScorexChangeAtTimeOfListing          18928 non-null   float64\n",
      " 29  Term                                 113932 non-null  int64  \n",
      " 30  ListingCreationDate                  113932 non-null  object \n",
      " 31  ProsperRating                        113932 non-null  object \n",
      " 32  Listing_Year                         113932 non-null  int64  \n",
      " 33  RevolveRatio                         113820 non-null  float64\n",
      "dtypes: bool(2), float64(15), int64(10), object(7)\n",
      "memory usage: 28.0+ MB\n"
     ]
    }
   ],
   "source": [
    "#Check information about data\n",
    "df.info()"
   ]
  },
  {
   "cell_type": "code",
   "execution_count": 44,
   "id": "9e4ee6da",
   "metadata": {},
   "outputs": [],
   "source": [
    "#Drop the column borrower state\n",
    "\n",
    "df.drop(columns = \"BorrowerState\", inplace = True)"
   ]
  },
  {
   "cell_type": "code",
   "execution_count": 45,
   "id": "c7dd4be7",
   "metadata": {},
   "outputs": [],
   "source": [
    "#Drop the column PublicRecordsLast12Months\n",
    "\n",
    "df.drop(columns = \"PublicRecordsLast12Months\", inplace = True)"
   ]
  },
  {
   "cell_type": "code",
   "execution_count": 46,
   "id": "b350c099",
   "metadata": {},
   "outputs": [],
   "source": [
    "#Drop the column ScorexChangeAtTimeOfListing\n",
    "\n",
    "df.drop(columns = \"ScorexChangeAtTimeOfListing\", inplace = True)"
   ]
  },
  {
   "cell_type": "code",
   "execution_count": 47,
   "id": "6a27f447",
   "metadata": {},
   "outputs": [],
   "source": [
    "#Drop rows tha do not have entries of First RecordedLine\n",
    "\n",
    "df = df[~df[\"FirstRecordedCreditLine\"].isnull()]"
   ]
  },
  {
   "cell_type": "code",
   "execution_count": 48,
   "id": "bad4521c",
   "metadata": {},
   "outputs": [],
   "source": [
    "#Feature engineer the column FirstRecordedCreditLine to firstrecordedcredityear\n",
    "\n",
    "df[\"firstrecordedcredityear\"] = pd.to_datetime(df[\"FirstRecordedCreditLine\"]).dt.year"
   ]
  },
  {
   "cell_type": "code",
   "execution_count": 49,
   "id": "a56484bb",
   "metadata": {},
   "outputs": [],
   "source": [
    "#Drop FirstRecordedCreditLine \n",
    "\n",
    "df.drop(columns = \"FirstRecordedCreditLine\", inplace=True)"
   ]
  },
  {
   "cell_type": "code",
   "execution_count": 50,
   "id": "cce36248",
   "metadata": {},
   "outputs": [],
   "source": [
    "#Drop na\n",
    "\n",
    "df.dropna(inplace=True)"
   ]
  },
  {
   "cell_type": "code",
   "execution_count": 51,
   "id": "8beba403",
   "metadata": {},
   "outputs": [
    {
     "data": {
      "text/plain": [
       "0"
      ]
     },
     "execution_count": 51,
     "metadata": {},
     "output_type": "execute_result"
    }
   ],
   "source": [
    "df.isnull().sum().sum()"
   ]
  },
  {
   "cell_type": "code",
   "execution_count": 52,
   "id": "fddaa399",
   "metadata": {},
   "outputs": [
    {
     "data": {
      "text/plain": [
       "15739              inf\n",
       "25457              inf\n",
       "69954              inf\n",
       "83949              inf\n",
       "72461              inf\n",
       "57893              inf\n",
       "39687              inf\n",
       "105702             inf\n",
       "35151              inf\n",
       "66819              inf\n",
       "28721     4.682419e+04\n",
       "109119    3.855615e+04\n",
       "8461      3.806415e+04\n",
       "226       3.439214e+04\n",
       "82318     3.319213e+04\n",
       "103546    2.754011e+04\n",
       "103606    2.640011e+04\n",
       "67695     2.636411e+04\n",
       "109041    2.618410e+04\n",
       "60563     2.600410e+04\n",
       "55168     2.583610e+04\n",
       "81982     2.328009e+04\n",
       "19884     2.149209e+04\n",
       "Name: RevolveRatio, dtype: float64"
      ]
     },
     "execution_count": 52,
     "metadata": {},
     "output_type": "execute_result"
    }
   ],
   "source": [
    "#Replace revolve ratio infinity values with 50,000 (A value not as high the previous values in dataset)\n",
    "df[\"RevolveRatio\"].sort_values(ascending=False)[1267:1290]"
   ]
  },
  {
   "cell_type": "code",
   "execution_count": 53,
   "id": "15aef9cb",
   "metadata": {},
   "outputs": [],
   "source": [
    "#Replace\n",
    "df[\"RevolveRatio\"] = df[\"RevolveRatio\"].replace(np.inf, 50_000)"
   ]
  },
  {
   "cell_type": "code",
   "execution_count": 54,
   "id": "85ebb7c8",
   "metadata": {},
   "outputs": [
    {
     "data": {
      "text/plain": [
       "15739     50000.000000\n",
       "25457     50000.000000\n",
       "69954     50000.000000\n",
       "83949     50000.000000\n",
       "72461     50000.000000\n",
       "57893     50000.000000\n",
       "39687     50000.000000\n",
       "105702    50000.000000\n",
       "35151     50000.000000\n",
       "66819     50000.000000\n",
       "28721     46824.187297\n",
       "109119    38556.154225\n",
       "8461      38064.152257\n",
       "226       34392.137569\n",
       "82318     33192.132769\n",
       "103546    27540.110160\n",
       "103606    26400.105600\n",
       "67695     26364.105456\n",
       "109041    26184.104736\n",
       "60563     26004.104016\n",
       "55168     25836.103344\n",
       "81982     23280.093120\n",
       "19884     21492.085968\n",
       "Name: RevolveRatio, dtype: float64"
      ]
     },
     "execution_count": 54,
     "metadata": {},
     "output_type": "execute_result"
    }
   ],
   "source": [
    "#Check new values\n",
    "df[\"RevolveRatio\"].sort_values(ascending=False)[1267:1290]"
   ]
  },
  {
   "cell_type": "code",
   "execution_count": 55,
   "id": "d7983290",
   "metadata": {},
   "outputs": [
    {
     "name": "stdout",
     "output_type": "stream",
     "text": [
      "<class 'pandas.core.frame.DataFrame'>\n",
      "Int64Index: 112577 entries, 0 to 113931\n",
      "Data columns (total 31 columns):\n",
      " #   Column                               Non-Null Count   Dtype  \n",
      "---  ------                               --------------   -----  \n",
      " 0   LoanStatus                           112577 non-null  object \n",
      " 1   TotalProsperLoans                    112577 non-null  int64  \n",
      " 2   OnTimeProsperPayments                112577 non-null  int64  \n",
      " 3   ProsperPaymentsLessThanOneMonthLate  112577 non-null  int64  \n",
      " 4   ProsperPrincipalBorrowed             112577 non-null  float64\n",
      " 5   ProsperPaymentsOneMonthPlusLate      112577 non-null  int64  \n",
      " 6   BorrowerAPR                          112577 non-null  float64\n",
      " 7   ListingCategory (numeric)            112577 non-null  int64  \n",
      " 8   EmploymentStatus                     112577 non-null  object \n",
      " 9   CurrentlyInGroup                     112577 non-null  bool   \n",
      " 10  OpenCreditLines                      112577 non-null  int64  \n",
      " 11  OpenRevolvingAccounts                112577 non-null  int64  \n",
      " 12  OpenRevolvingMonthlyPayment          112577 non-null  float64\n",
      " 13  InquiriesLast6Months                 112577 non-null  float64\n",
      " 14  TotalInquiries                       112577 non-null  float64\n",
      " 15  AmountDelinquent                     112577 non-null  float64\n",
      " 16  CurrentDelinquencies                 112577 non-null  float64\n",
      " 17  DelinquenciesLast7Years              112577 non-null  float64\n",
      " 18  PublicRecordsLast10Years             112577 non-null  float64\n",
      " 19  DebtToIncomeRatio                    112577 non-null  float64\n",
      " 20  IncomeRange                          112577 non-null  object \n",
      " 21  StatedMonthlyIncome                  112577 non-null  float64\n",
      " 22  IncomeVerifiable                     112577 non-null  bool   \n",
      " 23  LoanOriginalAmount                   112577 non-null  int64  \n",
      " 24  MonthlyLoanPayment                   112577 non-null  float64\n",
      " 25  Term                                 112577 non-null  int64  \n",
      " 26  ListingCreationDate                  112577 non-null  object \n",
      " 27  ProsperRating                        112577 non-null  object \n",
      " 28  Listing_Year                         112577 non-null  int64  \n",
      " 29  RevolveRatio                         112577 non-null  float64\n",
      " 30  firstrecordedcredityear              112577 non-null  int64  \n",
      "dtypes: bool(2), float64(13), int64(11), object(5)\n",
      "memory usage: 26.0+ MB\n"
     ]
    }
   ],
   "source": [
    "df.info()"
   ]
  },
  {
   "cell_type": "markdown",
   "id": "c5329f8e",
   "metadata": {},
   "source": [
    "### Split the dataset\n",
    "- What we want to do is to split our dataset and use that algorithm to predict foe those still currently paying whether they will default or not."
   ]
  },
  {
   "cell_type": "code",
   "execution_count": 56,
   "id": "2bdbc335",
   "metadata": {},
   "outputs": [],
   "source": [
    "#DRop those who are currently paying\n",
    "\n",
    "data = df[df[\"LoanStatus\"] != \"Current\"]"
   ]
  },
  {
   "cell_type": "code",
   "execution_count": 57,
   "id": "ddbc2e93",
   "metadata": {},
   "outputs": [],
   "source": [
    "#Create column defaulted, where 1 represents yes and 0 represents 0 and completed\n",
    "\n",
    "#Create function for that\n",
    "\n",
    "def is_defaulted(x):\n",
    "    if x == \"Completed\":\n",
    "        return 0\n",
    "    else:\n",
    "        return 1"
   ]
  },
  {
   "cell_type": "code",
   "execution_count": 58,
   "id": "7bb10ab0",
   "metadata": {},
   "outputs": [],
   "source": [
    "data[\"defaulted\"] = data[\"LoanStatus\"].apply(is_defaulted)"
   ]
  },
  {
   "cell_type": "code",
   "execution_count": 59,
   "id": "f74190ee",
   "metadata": {},
   "outputs": [
    {
     "data": {
      "image/png": "[encoded data removed]",
      "text/plain": [
       "<Figure size 432x288 with 1 Axes>"
      ]
     },
     "metadata": {
      "needs_background": "light"
     },
     "output_type": "display_data"
    }
   ],
   "source": [
    "#Class balance\n",
    "data[\"defaulted\"].value_counts(normalize = True).plot(kind = \"bar\");"
   ]
  },
  {
   "cell_type": "code",
   "execution_count": 60,
   "id": "0e326f4b",
   "metadata": {},
   "outputs": [],
   "source": [
    "#Drop LoanStatus columns\n",
    "\n",
    "data.drop(columns = \"LoanStatus\", inplace = True)"
   ]
  },
  {
   "cell_type": "code",
   "execution_count": 61,
   "id": "7a015b57",
   "metadata": {},
   "outputs": [],
   "source": [
    "#Split dataset into training and testing\n",
    "\n",
    "target = \"defaulted\"\n",
    "X = data.drop(columns = target)\n",
    "y = data[target]"
   ]
  },
  {
   "cell_type": "code",
   "execution_count": 705,
   "id": "797ce714",
   "metadata": {},
   "outputs": [],
   "source": [
    "#Convert prosper rating to ordered categorical type\n",
    "df[\"ProsperRating\"]=pd.Categorical(df[\"ProsperRating\"], categories =['A', 'AA', 'B', 'C', 'D', 'E', 'HR', 'NC'], ordered=True)"
   ]
  },
  {
   "cell_type": "code",
   "execution_count": 706,
   "id": "2feb2cd9",
   "metadata": {},
   "outputs": [
    {
     "data": {
      "text/plain": [
       "CategoricalDtype(categories=['A', 'AA', 'B', 'C', 'D', 'E', 'HR', 'NC'], ordered=True)"
      ]
     },
     "execution_count": 706,
     "metadata": {},
     "output_type": "execute_result"
    }
   ],
   "source": [
    "df[\"ProsperRating\"].dtype"
   ]
  },
  {
   "cell_type": "code",
   "execution_count": 707,
   "id": "e551a16c",
   "metadata": {},
   "outputs": [],
   "source": [
    "#Split into train and test dataset\n",
    "\n",
    "X_train, X_test, y_train, y_test = train_test_split(\n",
    "    X, y, random_state = 42, test_size = 0.2\n",
    ")"
   ]
  },
  {
   "cell_type": "markdown",
   "id": "d17ef811",
   "metadata": {},
   "source": [
    "### Set baseline for model"
   ]
  },
  {
   "cell_type": "code",
   "execution_count": 63,
   "id": "93e7b7a2",
   "metadata": {},
   "outputs": [
    {
     "data": {
      "text/plain": [
       "0.6668906810035843"
      ]
     },
     "execution_count": 63,
     "metadata": {},
     "output_type": "execute_result"
    }
   ],
   "source": [
    "y_train.value_counts(normalize = True).max()"
   ]
  },
  {
   "cell_type": "markdown",
   "id": "bce93e76",
   "metadata": {},
   "source": [
    "### Begin Model Iteration"
   ]
  },
  {
   "cell_type": "markdown",
   "id": "ac36bc5f",
   "metadata": {},
   "source": [
    "#### Random Forest Classifier"
   ]
  },
  {
   "cell_type": "code",
   "execution_count": 715,
   "id": "fc775aca",
   "metadata": {},
   "outputs": [],
   "source": [
    "rf_clf = make_pipeline(OrdinalEncoder(mapping=[{\"col\": \"ProsperRating\", \"mapping\": {\"NC\":0, \"AA\":1,\n",
    "                                                            \"A\":2, \"B\":3, \"C\":4,\n",
    "                                                           \"D\":5, \"E\":6, \"HR\":7}}]),\n",
    "                            OrdinalEncoder(),\n",
    "                    RandomForestClassifier(oob_score = True))"
   ]
  },
  {
   "cell_type": "code",
   "execution_count": 716,
   "id": "19e63e7b",
   "metadata": {},
   "outputs": [
    {
     "data": {
      "text/plain": [
       "{'randomforestclassifier__n_estimators': range(50, 401, 50),\n",
       " 'randomforestclassifier__max_samples': array([0.25, 0.5 , 0.75]),\n",
       " 'randomforestclassifier__max_depth': [5, 10, 15],\n",
       " 'randomforestclassifier__max_features': ['sqrt', 'log2']}"
      ]
     },
     "execution_count": 716,
     "metadata": {},
     "output_type": "execute_result"
    }
   ],
   "source": [
    "param_rf = {\n",
    "    \"randomforestclassifier__n_estimators\": range(50, 401, 50),\n",
    "    \"randomforestclassifier__max_samples\": np.arange(0.25, 1.0, 0.25),\n",
    "    \"randomforestclassifier__max_depth\": [5, 10, 15],\n",
    "    \"randomforestclassifier__max_features\": [\"sqrt\", \"log2\"]\n",
    "}\n",
    "param_rf"
   ]
  },
  {
   "cell_type": "code",
   "execution_count": 421,
   "id": "79cad9fe",
   "metadata": {},
   "outputs": [
    {
     "name": "stdout",
     "output_type": "stream",
     "text": [
      "Fitting 5 folds for each of 144 candidates, totalling 720 fits\n"
     ]
    },
    {
     "data": {
      "text/html": [
       "<style>#sk-container-id-10 {color: black;background-color: white;}#sk-container-id-10 pre{padding: 0;}#sk-container-id-10 div.sk-toggleable {background-color: white;}#sk-container-id-10 label.sk-toggleable__label {cursor: pointer;display: block;width: 100%;margin-bottom: 0;padding: 0.3em;box-sizing: border-box;text-align: center;}#sk-container-id-10 label.sk-toggleable__label-arrow:before {content: \"▸\";float: left;margin-right: 0.25em;color: #696969;}#sk-container-id-10 label.sk-toggleable__label-arrow:hover:before {color: black;}#sk-container-id-10 div.sk-estimator:hover label.sk-toggleable__label-arrow:before {color: black;}#sk-container-id-10 div.sk-toggleable__content {max-height: 0;max-width: 0;overflow: hidden;text-align: left;background-color: #f0f8ff;}#sk-container-id-10 div.sk-toggleable__content pre {margin: 0.2em;color: black;border-radius: 0.25em;background-color: #f0f8ff;}#sk-container-id-10 input.sk-toggleable__control:checked~div.sk-toggleable__content {max-height: 200px;max-width: 100%;overflow: auto;}#sk-container-id-10 input.sk-toggleable__control:checked~label.sk-toggleable__label-arrow:before {content: \"▾\";}#sk-container-id-10 div.sk-estimator input.sk-toggleable__control:checked~label.sk-toggleable__label {background-color: #d4ebff;}#sk-container-id-10 div.sk-label input.sk-toggleable__control:checked~label.sk-toggleable__label {background-color: #d4ebff;}#sk-container-id-10 input.sk-hidden--visually {border: 0;clip: rect(1px 1px 1px 1px);clip: rect(1px, 1px, 1px, 1px);height: 1px;margin: -1px;overflow: hidden;padding: 0;position: absolute;width: 1px;}#sk-container-id-10 div.sk-estimator {font-family: monospace;background-color: #f0f8ff;border: 1px dotted black;border-radius: 0.25em;box-sizing: border-box;margin-bottom: 0.5em;}#sk-container-id-10 div.sk-estimator:hover {background-color: #d4ebff;}#sk-container-id-10 div.sk-parallel-item::after {content: \"\";width: 100%;border-bottom: 1px solid gray;flex-grow: 1;}#sk-container-id-10 div.sk-label:hover label.sk-toggleable__label {background-color: #d4ebff;}#sk-container-id-10 div.sk-serial::before {content: \"\";position: absolute;border-left: 1px solid gray;box-sizing: border-box;top: 0;bottom: 0;left: 50%;z-index: 0;}#sk-container-id-10 div.sk-serial {display: flex;flex-direction: column;align-items: center;background-color: white;padding-right: 0.2em;padding-left: 0.2em;position: relative;}#sk-container-id-10 div.sk-item {position: relative;z-index: 1;}#sk-container-id-10 div.sk-parallel {display: flex;align-items: stretch;justify-content: center;background-color: white;position: relative;}#sk-container-id-10 div.sk-item::before, #sk-container-id-10 div.sk-parallel-item::before {content: \"\";position: absolute;border-left: 1px solid gray;box-sizing: border-box;top: 0;bottom: 0;left: 50%;z-index: -1;}#sk-container-id-10 div.sk-parallel-item {display: flex;flex-direction: column;z-index: 1;position: relative;background-color: white;}#sk-container-id-10 div.sk-parallel-item:first-child::after {align-self: flex-end;width: 50%;}#sk-container-id-10 div.sk-parallel-item:last-child::after {align-self: flex-start;width: 50%;}#sk-container-id-10 div.sk-parallel-item:only-child::after {width: 0;}#sk-container-id-10 div.sk-dashed-wrapped {border: 1px dashed gray;margin: 0 0.4em 0.5em 0.4em;box-sizing: border-box;padding-bottom: 0.4em;background-color: white;}#sk-container-id-10 div.sk-label label {font-family: monospace;font-weight: bold;display: inline-block;line-height: 1.2em;}#sk-container-id-10 div.sk-label-container {text-align: center;}#sk-container-id-10 div.sk-container {/* jupyter's `normalize.less` sets `[hidden] { display: none; }` but bootstrap.min.css set `[hidden] { display: none !important; }` so we also need the `!important` here to be able to override the default hidden behavior on the sphinx rendered scikit-learn.org. See: https://github.com/scikit-learn/scikit-learn/issues/21755 */display: inline-block !important;position: relative;}#sk-container-id-10 div.sk-text-repr-fallback {display: none;}</style><div id=\"sk-container-id-10\" class=\"sk-top-container\"><div class=\"sk-text-repr-fallback\"><pre>RandomizedSearchCV(cv=5,\n",
       "                   estimator=Pipeline(steps=[(&#x27;ordinalencoder&#x27;,\n",
       "                                              OrdinalEncoder()),\n",
       "                                             (&#x27;randomforestclassifier&#x27;,\n",
       "                                              RandomForestClassifier(oob_score=True))]),\n",
       "                   n_iter=200, n_jobs=-1,\n",
       "                   param_distributions={&#x27;randomforestclassifier__max_depth&#x27;: [5,\n",
       "                                                                              10,\n",
       "                                                                              15],\n",
       "                                        &#x27;randomforestclassifier__max_features&#x27;: [&#x27;sqrt&#x27;,\n",
       "                                                                                 &#x27;log2&#x27;],\n",
       "                                        &#x27;randomforestclassifier__max_samples&#x27;: array([0.25, 0.5 , 0.75]),\n",
       "                                        &#x27;randomforestclassifier__n_estimators&#x27;: range(50, 401, 50)},\n",
       "                   random_state=42, verbose=1)</pre><b>In a Jupyter environment, please rerun this cell to show the HTML representation or trust the notebook. <br />On GitHub, the HTML representation is unable to render, please try loading this page with nbviewer.org.</b></div><div class=\"sk-container\" hidden><div class=\"sk-item sk-dashed-wrapped\"><div class=\"sk-label-container\"><div class=\"sk-label sk-toggleable\"><input class=\"sk-toggleable__control sk-hidden--visually\" id=\"sk-estimator-id-18\" type=\"checkbox\" ><label for=\"sk-estimator-id-18\" class=\"sk-toggleable__label sk-toggleable__label-arrow\">RandomizedSearchCV</label><div class=\"sk-toggleable__content\"><pre>RandomizedSearchCV(cv=5,\n",
       "                   estimator=Pipeline(steps=[(&#x27;ordinalencoder&#x27;,\n",
       "                                              OrdinalEncoder()),\n",
       "                                             (&#x27;randomforestclassifier&#x27;,\n",
       "                                              RandomForestClassifier(oob_score=True))]),\n",
       "                   n_iter=200, n_jobs=-1,\n",
       "                   param_distributions={&#x27;randomforestclassifier__max_depth&#x27;: [5,\n",
       "                                                                              10,\n",
       "                                                                              15],\n",
       "                                        &#x27;randomforestclassifier__max_features&#x27;: [&#x27;sqrt&#x27;,\n",
       "                                                                                 &#x27;log2&#x27;],\n",
       "                                        &#x27;randomforestclassifier__max_samples&#x27;: array([0.25, 0.5 , 0.75]),\n",
       "                                        &#x27;randomforestclassifier__n_estimators&#x27;: range(50, 401, 50)},\n",
       "                   random_state=42, verbose=1)</pre></div></div></div><div class=\"sk-parallel\"><div class=\"sk-parallel-item\"><div class=\"sk-item\"><div class=\"sk-label-container\"><div class=\"sk-label sk-toggleable\"><input class=\"sk-toggleable__control sk-hidden--visually\" id=\"sk-estimator-id-19\" type=\"checkbox\" ><label for=\"sk-estimator-id-19\" class=\"sk-toggleable__label sk-toggleable__label-arrow\">estimator: Pipeline</label><div class=\"sk-toggleable__content\"><pre>Pipeline(steps=[(&#x27;ordinalencoder&#x27;, OrdinalEncoder()),\n",
       "                (&#x27;randomforestclassifier&#x27;,\n",
       "                 RandomForestClassifier(oob_score=True))])</pre></div></div></div><div class=\"sk-serial\"><div class=\"sk-item\"><div class=\"sk-serial\"><div class=\"sk-item\"><div class=\"sk-estimator sk-toggleable\"><input class=\"sk-toggleable__control sk-hidden--visually\" id=\"sk-estimator-id-20\" type=\"checkbox\" ><label for=\"sk-estimator-id-20\" class=\"sk-toggleable__label sk-toggleable__label-arrow\">OrdinalEncoder</label><div class=\"sk-toggleable__content\"><pre>OrdinalEncoder()</pre></div></div></div><div class=\"sk-item\"><div class=\"sk-estimator sk-toggleable\"><input class=\"sk-toggleable__control sk-hidden--visually\" id=\"sk-estimator-id-21\" type=\"checkbox\" ><label for=\"sk-estimator-id-21\" class=\"sk-toggleable__label sk-toggleable__label-arrow\">RandomForestClassifier</label><div class=\"sk-toggleable__content\"><pre>RandomForestClassifier(oob_score=True)</pre></div></div></div></div></div></div></div></div></div></div></div></div>"
      ],
      "text/plain": [
       "RandomizedSearchCV(cv=5,\n",
       "                   estimator=Pipeline(steps=[('ordinalencoder',\n",
       "                                              OrdinalEncoder()),\n",
       "                                             ('randomforestclassifier',\n",
       "                                              RandomForestClassifier(oob_score=True))]),\n",
       "                   n_iter=200, n_jobs=-1,\n",
       "                   param_distributions={'randomforestclassifier__max_depth': [5,\n",
       "                                                                              10,\n",
       "                                                                              15],\n",
       "                                        'randomforestclassifier__max_features': ['sqrt',\n",
       "                                                                                 'log2'],\n",
       "                                        'randomforestclassifier__max_samples': array([0.25, 0.5 , 0.75]),\n",
       "                                        'randomforestclassifier__n_estimators': range(50, 401, 50)},\n",
       "                   random_state=42, verbose=1)"
      ]
     },
     "execution_count": 421,
     "metadata": {},
     "output_type": "execute_result"
    }
   ],
   "source": [
    "#create model\n",
    "\n",
    "rf_model = RandomizedSearchCV(rf_clf, \n",
    "                   param_distributions=param_rf,\n",
    "                   cv = 5, n_jobs=-1,\n",
    "                   n_iter=200, verbose=1,\n",
    "                   random_state=42\n",
    "                  )\n",
    "rf_model.fit(X_train, y_train)"
   ]
  },
  {
   "cell_type": "code",
   "execution_count": 423,
   "id": "4be3f327",
   "metadata": {
    "scrolled": true
   },
   "outputs": [
    {
     "data": {
      "text/plain": [
       "{'randomforestclassifier__n_estimators': 400,\n",
       " 'randomforestclassifier__max_samples': 0.5,\n",
       " 'randomforestclassifier__max_features': 'log2',\n",
       " 'randomforestclassifier__max_depth': 15}"
      ]
     },
     "execution_count": 423,
     "metadata": {},
     "output_type": "execute_result"
    }
   ],
   "source": [
    "rf_model.best_params_"
   ]
  },
  {
   "cell_type": "code",
   "execution_count": 442,
   "id": "214a3319",
   "metadata": {},
   "outputs": [
    {
     "name": "stdout",
     "output_type": "stream",
     "text": [
      "The random forest model best score is given as 0.72\n"
     ]
    }
   ],
   "source": [
    "#Check accuracy of model\n",
    "print(f\"The random forest model best score is given as {round(rf_model.best_score_, 2)}\")"
   ]
  },
  {
   "cell_type": "code",
   "execution_count": 544,
   "id": "9089e883",
   "metadata": {},
   "outputs": [
    {
     "data": {
      "text/plain": [
       "0.6984411395807203"
      ]
     },
     "execution_count": 544,
     "metadata": {},
     "output_type": "execute_result"
    }
   ],
   "source": [
    "#Accuracy score of the model on X_test\n",
    "accuracy_score(y_test, rf_model.predict(X_test))"
   ]
  },
  {
   "cell_type": "markdown",
   "id": "695ec543",
   "metadata": {},
   "source": [
    "From the above we see that the model is doing well not to overfit and at the same time acheives a model accuracy of 72%. We will henceforth go to model explicability of the result that we obtained.\n",
    "\n",
    "### Random Forest Results Explained."
   ]
  },
  {
   "cell_type": "code",
   "execution_count": 425,
   "id": "1cded277",
   "metadata": {},
   "outputs": [
    {
     "data": {
      "text/html": [
       "<style>#sk-container-id-12 {color: black;background-color: white;}#sk-container-id-12 pre{padding: 0;}#sk-container-id-12 div.sk-toggleable {background-color: white;}#sk-container-id-12 label.sk-toggleable__label {cursor: pointer;display: block;width: 100%;margin-bottom: 0;padding: 0.3em;box-sizing: border-box;text-align: center;}#sk-container-id-12 label.sk-toggleable__label-arrow:before {content: \"▸\";float: left;margin-right: 0.25em;color: #696969;}#sk-container-id-12 label.sk-toggleable__label-arrow:hover:before {color: black;}#sk-container-id-12 div.sk-estimator:hover label.sk-toggleable__label-arrow:before {color: black;}#sk-container-id-12 div.sk-toggleable__content {max-height: 0;max-width: 0;overflow: hidden;text-align: left;background-color: #f0f8ff;}#sk-container-id-12 div.sk-toggleable__content pre {margin: 0.2em;color: black;border-radius: 0.25em;background-color: #f0f8ff;}#sk-container-id-12 input.sk-toggleable__control:checked~div.sk-toggleable__content {max-height: 200px;max-width: 100%;overflow: auto;}#sk-container-id-12 input.sk-toggleable__control:checked~label.sk-toggleable__label-arrow:before {content: \"▾\";}#sk-container-id-12 div.sk-estimator input.sk-toggleable__control:checked~label.sk-toggleable__label {background-color: #d4ebff;}#sk-container-id-12 div.sk-label input.sk-toggleable__control:checked~label.sk-toggleable__label {background-color: #d4ebff;}#sk-container-id-12 input.sk-hidden--visually {border: 0;clip: rect(1px 1px 1px 1px);clip: rect(1px, 1px, 1px, 1px);height: 1px;margin: -1px;overflow: hidden;padding: 0;position: absolute;width: 1px;}#sk-container-id-12 div.sk-estimator {font-family: monospace;background-color: #f0f8ff;border: 1px dotted black;border-radius: 0.25em;box-sizing: border-box;margin-bottom: 0.5em;}#sk-container-id-12 div.sk-estimator:hover {background-color: #d4ebff;}#sk-container-id-12 div.sk-parallel-item::after {content: \"\";width: 100%;border-bottom: 1px solid gray;flex-grow: 1;}#sk-container-id-12 div.sk-label:hover label.sk-toggleable__label {background-color: #d4ebff;}#sk-container-id-12 div.sk-serial::before {content: \"\";position: absolute;border-left: 1px solid gray;box-sizing: border-box;top: 0;bottom: 0;left: 50%;z-index: 0;}#sk-container-id-12 div.sk-serial {display: flex;flex-direction: column;align-items: center;background-color: white;padding-right: 0.2em;padding-left: 0.2em;position: relative;}#sk-container-id-12 div.sk-item {position: relative;z-index: 1;}#sk-container-id-12 div.sk-parallel {display: flex;align-items: stretch;justify-content: center;background-color: white;position: relative;}#sk-container-id-12 div.sk-item::before, #sk-container-id-12 div.sk-parallel-item::before {content: \"\";position: absolute;border-left: 1px solid gray;box-sizing: border-box;top: 0;bottom: 0;left: 50%;z-index: -1;}#sk-container-id-12 div.sk-parallel-item {display: flex;flex-direction: column;z-index: 1;position: relative;background-color: white;}#sk-container-id-12 div.sk-parallel-item:first-child::after {align-self: flex-end;width: 50%;}#sk-container-id-12 div.sk-parallel-item:last-child::after {align-self: flex-start;width: 50%;}#sk-container-id-12 div.sk-parallel-item:only-child::after {width: 0;}#sk-container-id-12 div.sk-dashed-wrapped {border: 1px dashed gray;margin: 0 0.4em 0.5em 0.4em;box-sizing: border-box;padding-bottom: 0.4em;background-color: white;}#sk-container-id-12 div.sk-label label {font-family: monospace;font-weight: bold;display: inline-block;line-height: 1.2em;}#sk-container-id-12 div.sk-label-container {text-align: center;}#sk-container-id-12 div.sk-container {/* jupyter's `normalize.less` sets `[hidden] { display: none; }` but bootstrap.min.css set `[hidden] { display: none !important; }` so we also need the `!important` here to be able to override the default hidden behavior on the sphinx rendered scikit-learn.org. See: https://github.com/scikit-learn/scikit-learn/issues/21755 */display: inline-block !important;position: relative;}#sk-container-id-12 div.sk-text-repr-fallback {display: none;}</style><div id=\"sk-container-id-12\" class=\"sk-top-container\"><div class=\"sk-text-repr-fallback\"><pre>RandomForestClassifier(max_depth=15, max_features=&#x27;log2&#x27;, max_samples=0.5,\n",
       "                       n_estimators=400, oob_score=True)</pre><b>In a Jupyter environment, please rerun this cell to show the HTML representation or trust the notebook. <br />On GitHub, the HTML representation is unable to render, please try loading this page with nbviewer.org.</b></div><div class=\"sk-container\" hidden><div class=\"sk-item\"><div class=\"sk-estimator sk-toggleable\"><input class=\"sk-toggleable__control sk-hidden--visually\" id=\"sk-estimator-id-23\" type=\"checkbox\" checked><label for=\"sk-estimator-id-23\" class=\"sk-toggleable__label sk-toggleable__label-arrow\">RandomForestClassifier</label><div class=\"sk-toggleable__content\"><pre>RandomForestClassifier(max_depth=15, max_features=&#x27;log2&#x27;, max_samples=0.5,\n",
       "                       n_estimators=400, oob_score=True)</pre></div></div></div></div></div>"
      ],
      "text/plain": [
       "RandomForestClassifier(max_depth=15, max_features='log2', max_samples=0.5,\n",
       "                       n_estimators=400, oob_score=True)"
      ]
     },
     "execution_count": 425,
     "metadata": {},
     "output_type": "execute_result"
    }
   ],
   "source": [
    "#Extract out the RF model from the pipeline\n",
    "rf_m = rf_model.best_estimator_.named_steps[\"randomforestclassifier\"]\n",
    "rf_m"
   ]
  },
  {
   "cell_type": "markdown",
   "id": "2190100b",
   "metadata": {},
   "source": [
    "#### Effect of the addition of trees to model mean squared error and accuracy."
   ]
  },
  {
   "cell_type": "code",
   "execution_count": 605,
   "id": "2b0cf8be",
   "metadata": {},
   "outputs": [],
   "source": [
    "#Define function mean abbsolute error\n",
    "\n",
    "def mse(true, pred):\n",
    "    return ((true - pred)**2).mean()\n",
    "\n",
    "def mae(true, pred):\n",
    "    return (abs(true - pred)).mean()"
   ]
  },
  {
   "cell_type": "code",
   "execution_count": 743,
   "id": "0e409107",
   "metadata": {},
   "outputs": [
    {
     "data": {
      "text/html": [
       "<div>\n",
       "<style scoped>\n",
       "    .dataframe tbody tr th:only-of-type {\n",
       "        vertical-align: middle;\n",
       "    }\n",
       "\n",
       "    .dataframe tbody tr th {\n",
       "        vertical-align: top;\n",
       "    }\n",
       "\n",
       "    .dataframe thead th {\n",
       "        text-align: right;\n",
       "    }\n",
       "</style>\n",
       "<table border=\"1\" class=\"dataframe\">\n",
       "  <thead>\n",
       "    <tr style=\"text-align: right;\">\n",
       "      <th></th>\n",
       "      <th>TotalProsperLoans</th>\n",
       "      <th>OnTimeProsperPayments</th>\n",
       "      <th>ProsperPaymentsLessThanOneMonthLate</th>\n",
       "      <th>ProsperPrincipalBorrowed</th>\n",
       "      <th>ProsperPaymentsOneMonthPlusLate</th>\n",
       "      <th>BorrowerAPR</th>\n",
       "      <th>ListingCategory (numeric)</th>\n",
       "      <th>EmploymentStatus</th>\n",
       "      <th>CurrentlyInGroup</th>\n",
       "      <th>OpenCreditLines</th>\n",
       "      <th>OpenRevolvingAccounts</th>\n",
       "      <th>OpenRevolvingMonthlyPayment</th>\n",
       "      <th>InquiriesLast6Months</th>\n",
       "      <th>TotalInquiries</th>\n",
       "      <th>AmountDelinquent</th>\n",
       "      <th>CurrentDelinquencies</th>\n",
       "      <th>DelinquenciesLast7Years</th>\n",
       "      <th>PublicRecordsLast10Years</th>\n",
       "      <th>DebtToIncomeRatio</th>\n",
       "      <th>IncomeRange</th>\n",
       "      <th>StatedMonthlyIncome</th>\n",
       "      <th>IncomeVerifiable</th>\n",
       "      <th>LoanOriginalAmount</th>\n",
       "      <th>MonthlyLoanPayment</th>\n",
       "      <th>Term</th>\n",
       "      <th>ListingCreationDate</th>\n",
       "      <th>ProsperRating</th>\n",
       "      <th>Listing_Year</th>\n",
       "      <th>RevolveRatio</th>\n",
       "      <th>firstrecordedcredityear</th>\n",
       "    </tr>\n",
       "  </thead>\n",
       "  <tbody>\n",
       "    <tr>\n",
       "      <th>17480</th>\n",
       "      <td>0</td>\n",
       "      <td>-1</td>\n",
       "      <td>-1</td>\n",
       "      <td>0.0</td>\n",
       "      <td>-1</td>\n",
       "      <td>0.07607</td>\n",
       "      <td>1</td>\n",
       "      <td>1</td>\n",
       "      <td>False</td>\n",
       "      <td>2</td>\n",
       "      <td>3</td>\n",
       "      <td>10.0</td>\n",
       "      <td>0.0</td>\n",
       "      <td>4.0</td>\n",
       "      <td>0.0</td>\n",
       "      <td>0.0</td>\n",
       "      <td>0.0</td>\n",
       "      <td>0.0</td>\n",
       "      <td>0.02</td>\n",
       "      <td>1</td>\n",
       "      <td>2166.666667</td>\n",
       "      <td>True</td>\n",
       "      <td>1000</td>\n",
       "      <td>30.38</td>\n",
       "      <td>36</td>\n",
       "      <td>1</td>\n",
       "      <td>1</td>\n",
       "      <td>1</td>\n",
       "      <td>0.004615</td>\n",
       "      <td>1</td>\n",
       "    </tr>\n",
       "    <tr>\n",
       "      <th>7123</th>\n",
       "      <td>0</td>\n",
       "      <td>-1</td>\n",
       "      <td>-1</td>\n",
       "      <td>0.0</td>\n",
       "      <td>-1</td>\n",
       "      <td>0.32297</td>\n",
       "      <td>2</td>\n",
       "      <td>1</td>\n",
       "      <td>False</td>\n",
       "      <td>7</td>\n",
       "      <td>6</td>\n",
       "      <td>189.0</td>\n",
       "      <td>1.0</td>\n",
       "      <td>5.0</td>\n",
       "      <td>0.0</td>\n",
       "      <td>0.0</td>\n",
       "      <td>2.0</td>\n",
       "      <td>1.0</td>\n",
       "      <td>0.60</td>\n",
       "      <td>2</td>\n",
       "      <td>1066.666667</td>\n",
       "      <td>True</td>\n",
       "      <td>2500</td>\n",
       "      <td>106.02</td>\n",
       "      <td>36</td>\n",
       "      <td>2</td>\n",
       "      <td>5</td>\n",
       "      <td>2</td>\n",
       "      <td>0.177187</td>\n",
       "      <td>2</td>\n",
       "    </tr>\n",
       "  </tbody>\n",
       "</table>\n",
       "</div>"
      ],
      "text/plain": [
       "       TotalProsperLoans  OnTimeProsperPayments  \\\n",
       "17480                  0                     -1   \n",
       "7123                   0                     -1   \n",
       "\n",
       "       ProsperPaymentsLessThanOneMonthLate  ProsperPrincipalBorrowed  \\\n",
       "17480                                   -1                       0.0   \n",
       "7123                                    -1                       0.0   \n",
       "\n",
       "       ProsperPaymentsOneMonthPlusLate  BorrowerAPR  \\\n",
       "17480                               -1      0.07607   \n",
       "7123                                -1      0.32297   \n",
       "\n",
       "       ListingCategory (numeric)  EmploymentStatus  CurrentlyInGroup  \\\n",
       "17480                          1                 1             False   \n",
       "7123                           2                 1             False   \n",
       "\n",
       "       OpenCreditLines  OpenRevolvingAccounts  OpenRevolvingMonthlyPayment  \\\n",
       "17480                2                      3                         10.0   \n",
       "7123                 7                      6                        189.0   \n",
       "\n",
       "       InquiriesLast6Months  TotalInquiries  AmountDelinquent  \\\n",
       "17480                   0.0             4.0               0.0   \n",
       "7123                    1.0             5.0               0.0   \n",
       "\n",
       "       CurrentDelinquencies  DelinquenciesLast7Years  \\\n",
       "17480                   0.0                      0.0   \n",
       "7123                    0.0                      2.0   \n",
       "\n",
       "       PublicRecordsLast10Years  DebtToIncomeRatio  IncomeRange  \\\n",
       "17480                       0.0               0.02            1   \n",
       "7123                        1.0               0.60            2   \n",
       "\n",
       "       StatedMonthlyIncome  IncomeVerifiable  LoanOriginalAmount  \\\n",
       "17480          2166.666667              True                1000   \n",
       "7123           1066.666667              True                2500   \n",
       "\n",
       "       MonthlyLoanPayment  Term  ListingCreationDate  ProsperRating  \\\n",
       "17480               30.38    36                    1              1   \n",
       "7123               106.02    36                    2              5   \n",
       "\n",
       "       Listing_Year  RevolveRatio  firstrecordedcredityear  \n",
       "17480             1      0.004615                        1  \n",
       "7123              2      0.177187                        2  "
      ]
     },
     "execution_count": 743,
     "metadata": {},
     "output_type": "execute_result"
    }
   ],
   "source": [
    "#transform test set\n",
    "cat_encoder = make_pipeline(OrdinalEncoder(mapping=[{\"col\": \"ProsperRating\", \"mapping\": {\"NC\":0, \"AA\":1,\n",
    "                                                            \"A\":2, \"B\":3, \"C\":4,\n",
    "                                                           \"D\":5, \"E\":6, \"HR\":7}}]),\n",
    "                            OrdinalEncoder()\n",
    "                           )\n",
    "X_test_t=cat_encoder.fit_transform(X_test)\n",
    "X_test_t.head(2)"
   ]
  },
  {
   "cell_type": "code",
   "execution_count": 523,
   "id": "593968c7",
   "metadata": {
    "scrolled": false
   },
   "outputs": [
    {
     "data": {
      "text/plain": [
       "(400, 5581)"
      ]
     },
     "execution_count": 523,
     "metadata": {},
     "output_type": "execute_result"
    }
   ],
   "source": [
    "test_preds = np.stack([m.predict(X_test_t) for m in rf_m.estimators_])\n",
    "test_preds.shape"
   ]
  },
  {
   "cell_type": "code",
   "execution_count": 672,
   "id": "8bf690d2",
   "metadata": {},
   "outputs": [
    {
     "data": {
      "text/plain": [
       "0.6950367317685002"
      ]
     },
     "execution_count": 672,
     "metadata": {},
     "output_type": "execute_result"
    }
   ],
   "source": [
    "#Mimimicking the accuracy score of the model on X_test by taking the mean predictions of each treest\n",
    "#And checking accuracy compared to the y_tes\n",
    "accuracy_score(y_test, (test_preds.mean(0)>0.49))"
   ]
  },
  {
   "cell_type": "code",
   "execution_count": 633,
   "id": "49963363",
   "metadata": {},
   "outputs": [
    {
     "data": {
      "image/png": "[encoded data removed]",
      "text/plain": [
       "<Figure size 432x288 with 1 Axes>"
      ]
     },
     "metadata": {
      "needs_background": "light"
     },
     "output_type": "display_data"
    }
   ],
   "source": [
    "#Plot the graph of decreasing mean suared error as we add more trees\n",
    "plt.plot([mse(y_test, test_preds[:i+1].mean(0)) for i in range(50)]);"
   ]
  },
  {
   "cell_type": "code",
   "execution_count": 632,
   "id": "e820ff42",
   "metadata": {},
   "outputs": [
    {
     "data": {
      "image/png": "[encoded data removed]",
      "text/plain": [
       "<Figure size 432x288 with 1 Axes>"
      ]
     },
     "metadata": {
      "needs_background": "light"
     },
     "output_type": "display_data"
    }
   ],
   "source": [
    "#Plot the graph of increasing accuracy score as we add more trees\n",
    "plt.plot([accuracy_score(y_test, (test_preds[:i+1].mean(0)>0.5)) for i in range(50)]);"
   ]
  },
  {
   "cell_type": "markdown",
   "id": "82c5b52a",
   "metadata": {},
   "source": [
    "#### RF model's variance\n",
    "\n",
    "By checking the Random Forest model variance we can see how each trees agree on a particular decision to be made. A high Standard deviation shows disparity and dispute among the trees that make up the forest and can be used in production to examine the precision of the forest."
   ]
  },
  {
   "cell_type": "code",
   "execution_count": 636,
   "id": "1811a0eb",
   "metadata": {},
   "outputs": [
    {
     "data": {
      "text/plain": [
       "array([0.30474101, 0.23115474, 0.26748221, ..., 0.22000224, 0.22686603,\n",
       "       0.25042336])"
      ]
     },
     "execution_count": 636,
     "metadata": {},
     "output_type": "execute_result"
    }
   ],
   "source": [
    "#Check for model sd\n",
    "preds.std(0)"
   ]
  },
  {
   "cell_type": "markdown",
   "id": "6d0bab3a",
   "metadata": {},
   "source": [
    "#### Feature Importance\n",
    "\n",
    "Feature Importance in decision trees and consequently random forests is obtained by considering the number of times that a particular feature was used in making a binary splits and the weighted loss improvement that resulted as a result of the split that was made. We are going to make a plot that will show the feature importance."
   ]
  },
  {
   "cell_type": "code",
   "execution_count": 647,
   "id": "8e0d83db",
   "metadata": {},
   "outputs": [
    {
     "data": {
      "image/png": "[encoded data removed]",
      "text/plain": [
       "<Figure size 864x648 with 1 Axes>"
      ]
     },
     "metadata": {
      "needs_background": "light"
     },
     "output_type": "display_data"
    }
   ],
   "source": [
    "fi = pd.Series(rf_m.feature_importances_, index=X_train.columns).sort_values(ascending=False)\n",
    "fi.plot(kind=\"barh\", figsize=[12, 9]);"
   ]
  },
  {
   "cell_type": "markdown",
   "id": "743df8fb",
   "metadata": {},
   "source": [
    "From the above plot, we can see that the BorrowerAPR has the highest feature importance and whether an income is  verifiable or not does not really play a role in the tree splitting. We will be dropping these and see the effect on dropping them on the accuracy score."
   ]
  },
  {
   "cell_type": "code",
   "execution_count": 719,
   "id": "af126dc3",
   "metadata": {},
   "outputs": [
    {
     "data": {
      "text/html": [
       "<div>\n",
       "<style scoped>\n",
       "    .dataframe tbody tr th:only-of-type {\n",
       "        vertical-align: middle;\n",
       "    }\n",
       "\n",
       "    .dataframe tbody tr th {\n",
       "        vertical-align: top;\n",
       "    }\n",
       "\n",
       "    .dataframe thead th {\n",
       "        text-align: right;\n",
       "    }\n",
       "</style>\n",
       "<table border=\"1\" class=\"dataframe\">\n",
       "  <thead>\n",
       "    <tr style=\"text-align: right;\">\n",
       "      <th></th>\n",
       "      <th>BorrowerAPR</th>\n",
       "      <th>MonthlyLoanPayment</th>\n",
       "      <th>TotalInquiries</th>\n",
       "      <th>StatedMonthlyIncome</th>\n",
       "      <th>RevolveRatio</th>\n",
       "      <th>OpenRevolvingMonthlyPayment</th>\n",
       "      <th>ListingCreationDate</th>\n",
       "      <th>DebtToIncomeRatio</th>\n",
       "      <th>LoanOriginalAmount</th>\n",
       "      <th>ProsperRating</th>\n",
       "      <th>InquiriesLast6Months</th>\n",
       "    </tr>\n",
       "  </thead>\n",
       "  <tbody>\n",
       "    <tr>\n",
       "      <th>66124</th>\n",
       "      <td>0.30564</td>\n",
       "      <td>125.72</td>\n",
       "      <td>21.0</td>\n",
       "      <td>4333.333333</td>\n",
       "      <td>0.016615</td>\n",
       "      <td>72.0</td>\n",
       "      <td>2007-09-18</td>\n",
       "      <td>0.13</td>\n",
       "      <td>3000</td>\n",
       "      <td>E</td>\n",
       "      <td>1.0</td>\n",
       "    </tr>\n",
       "    <tr>\n",
       "      <th>1999</th>\n",
       "      <td>0.23250</td>\n",
       "      <td>101.72</td>\n",
       "      <td>9.0</td>\n",
       "      <td>5416.666667</td>\n",
       "      <td>0.031938</td>\n",
       "      <td>173.0</td>\n",
       "      <td>2008-04-22</td>\n",
       "      <td>0.16</td>\n",
       "      <td>2700</td>\n",
       "      <td>HR</td>\n",
       "      <td>2.0</td>\n",
       "    </tr>\n",
       "    <tr>\n",
       "      <th>100741</th>\n",
       "      <td>0.27119</td>\n",
       "      <td>292.87</td>\n",
       "      <td>1.0</td>\n",
       "      <td>4916.666667</td>\n",
       "      <td>0.063051</td>\n",
       "      <td>310.0</td>\n",
       "      <td>2010-08-17</td>\n",
       "      <td>-10.00</td>\n",
       "      <td>7500</td>\n",
       "      <td>C</td>\n",
       "      <td>0.0</td>\n",
       "    </tr>\n",
       "    <tr>\n",
       "      <th>7562</th>\n",
       "      <td>0.14558</td>\n",
       "      <td>450.26</td>\n",
       "      <td>29.0</td>\n",
       "      <td>11250.000000</td>\n",
       "      <td>0.014400</td>\n",
       "      <td>162.0</td>\n",
       "      <td>2007-04-06</td>\n",
       "      <td>0.10</td>\n",
       "      <td>16000</td>\n",
       "      <td>C</td>\n",
       "      <td>10.0</td>\n",
       "    </tr>\n",
       "    <tr>\n",
       "      <th>102885</th>\n",
       "      <td>0.09186</td>\n",
       "      <td>94.70</td>\n",
       "      <td>5.0</td>\n",
       "      <td>20833.333333</td>\n",
       "      <td>0.000480</td>\n",
       "      <td>10.0</td>\n",
       "      <td>2006-07-23</td>\n",
       "      <td>0.15</td>\n",
       "      <td>3000</td>\n",
       "      <td>AA</td>\n",
       "      <td>1.0</td>\n",
       "    </tr>\n",
       "    <tr>\n",
       "      <th>...</th>\n",
       "      <td>...</td>\n",
       "      <td>...</td>\n",
       "      <td>...</td>\n",
       "      <td>...</td>\n",
       "      <td>...</td>\n",
       "      <td>...</td>\n",
       "      <td>...</td>\n",
       "      <td>...</td>\n",
       "      <td>...</td>\n",
       "      <td>...</td>\n",
       "      <td>...</td>\n",
       "    </tr>\n",
       "    <tr>\n",
       "      <th>91455</th>\n",
       "      <td>0.35643</td>\n",
       "      <td>174.20</td>\n",
       "      <td>6.0</td>\n",
       "      <td>2632.083333</td>\n",
       "      <td>0.020516</td>\n",
       "      <td>54.0</td>\n",
       "      <td>2011-10-26</td>\n",
       "      <td>0.09</td>\n",
       "      <td>4000</td>\n",
       "      <td>HR</td>\n",
       "      <td>4.0</td>\n",
       "    </tr>\n",
       "    <tr>\n",
       "      <th>110968</th>\n",
       "      <td>0.32368</td>\n",
       "      <td>127.34</td>\n",
       "      <td>19.0</td>\n",
       "      <td>7083.333333</td>\n",
       "      <td>0.004941</td>\n",
       "      <td>35.0</td>\n",
       "      <td>2008-09-12</td>\n",
       "      <td>0.02</td>\n",
       "      <td>3000</td>\n",
       "      <td>E</td>\n",
       "      <td>3.0</td>\n",
       "    </tr>\n",
       "    <tr>\n",
       "      <th>77806</th>\n",
       "      <td>0.11184</td>\n",
       "      <td>162.49</td>\n",
       "      <td>4.0</td>\n",
       "      <td>3416.666667</td>\n",
       "      <td>0.000000</td>\n",
       "      <td>0.0</td>\n",
       "      <td>2007-04-03</td>\n",
       "      <td>0.13</td>\n",
       "      <td>5000</td>\n",
       "      <td>B</td>\n",
       "      <td>2.0</td>\n",
       "    </tr>\n",
       "    <tr>\n",
       "      <th>1861</th>\n",
       "      <td>0.07872</td>\n",
       "      <td>61.77</td>\n",
       "      <td>13.0</td>\n",
       "      <td>7000.000000</td>\n",
       "      <td>0.067571</td>\n",
       "      <td>473.0</td>\n",
       "      <td>2008-04-12</td>\n",
       "      <td>0.13</td>\n",
       "      <td>2000</td>\n",
       "      <td>AA</td>\n",
       "      <td>0.0</td>\n",
       "    </tr>\n",
       "    <tr>\n",
       "      <th>32224</th>\n",
       "      <td>0.11244</td>\n",
       "      <td>32.03</td>\n",
       "      <td>2.0</td>\n",
       "      <td>2000.000000</td>\n",
       "      <td>0.108500</td>\n",
       "      <td>217.0</td>\n",
       "      <td>2008-03-09</td>\n",
       "      <td>0.31</td>\n",
       "      <td>1000</td>\n",
       "      <td>A</td>\n",
       "      <td>0.0</td>\n",
       "    </tr>\n",
       "  </tbody>\n",
       "</table>\n",
       "<p>44640 rows × 11 columns</p>\n",
       "</div>"
      ],
      "text/plain": [
       "        BorrowerAPR  MonthlyLoanPayment  TotalInquiries  StatedMonthlyIncome  \\\n",
       "66124       0.30564              125.72            21.0          4333.333333   \n",
       "1999        0.23250              101.72             9.0          5416.666667   \n",
       "100741      0.27119              292.87             1.0          4916.666667   \n",
       "7562        0.14558              450.26            29.0         11250.000000   \n",
       "102885      0.09186               94.70             5.0         20833.333333   \n",
       "...             ...                 ...             ...                  ...   \n",
       "91455       0.35643              174.20             6.0          2632.083333   \n",
       "110968      0.32368              127.34            19.0          7083.333333   \n",
       "77806       0.11184              162.49             4.0          3416.666667   \n",
       "1861        0.07872               61.77            13.0          7000.000000   \n",
       "32224       0.11244               32.03             2.0          2000.000000   \n",
       "\n",
       "        RevolveRatio  OpenRevolvingMonthlyPayment ListingCreationDate  \\\n",
       "66124       0.016615                         72.0          2007-09-18   \n",
       "1999        0.031938                        173.0          2008-04-22   \n",
       "100741      0.063051                        310.0          2010-08-17   \n",
       "7562        0.014400                        162.0          2007-04-06   \n",
       "102885      0.000480                         10.0          2006-07-23   \n",
       "...              ...                          ...                 ...   \n",
       "91455       0.020516                         54.0          2011-10-26   \n",
       "110968      0.004941                         35.0          2008-09-12   \n",
       "77806       0.000000                          0.0          2007-04-03   \n",
       "1861        0.067571                        473.0          2008-04-12   \n",
       "32224       0.108500                        217.0          2008-03-09   \n",
       "\n",
       "        DebtToIncomeRatio  LoanOriginalAmount ProsperRating  \\\n",
       "66124                0.13                3000             E   \n",
       "1999                 0.16                2700            HR   \n",
       "100741             -10.00                7500             C   \n",
       "7562                 0.10               16000             C   \n",
       "102885               0.15                3000            AA   \n",
       "...                   ...                 ...           ...   \n",
       "91455                0.09                4000            HR   \n",
       "110968               0.02                3000             E   \n",
       "77806                0.13                5000             B   \n",
       "1861                 0.13                2000            AA   \n",
       "32224                0.31                1000             A   \n",
       "\n",
       "        InquiriesLast6Months  \n",
       "66124                    1.0  \n",
       "1999                     2.0  \n",
       "100741                   0.0  \n",
       "7562                    10.0  \n",
       "102885                   1.0  \n",
       "...                      ...  \n",
       "91455                    4.0  \n",
       "110968                   3.0  \n",
       "77806                    2.0  \n",
       "1861                     0.0  \n",
       "32224                    0.0  \n",
       "\n",
       "[44640 rows x 11 columns]"
      ]
     },
     "execution_count": 719,
     "metadata": {},
     "output_type": "execute_result"
    }
   ],
   "source": [
    "#Drop columns with feature importance less than 0.04\n",
    "\n",
    "X_fi = X_train[fi[fi>0.04].index]\n",
    "X_fi"
   ]
  },
  {
   "cell_type": "code",
   "execution_count": 764,
   "id": "0379b519",
   "metadata": {},
   "outputs": [],
   "source": [
    "#Define function that trains model with just a dataframe entry using the default hyperparameters that we obtained\n",
    "\n",
    "def rf_modelling(x, y, n_estimators=400, max_samples=0.5,\n",
    "                max_features='log2', max_depth=15):\n",
    "    if \"ProsperRating\" in x.columns:\n",
    "        pipeline = make_pipeline(OrdinalEncoder(mapping=[{\"col\": \"ProsperRating\", \"mapping\": {\"NC\":0, \"AA\":1,\n",
    "                                                                \"A\":2, \"B\":3, \"C\":4,\n",
    "                                                               \"D\":5, \"E\":6, \"HR\":7}}]),\n",
    "                                OrdinalEncoder(),\n",
    "                                 RandomForestClassifier(n_estimators=n_estimators,\n",
    "                                                       max_samples=max_samples,\n",
    "                                                       max_features=max_features,\n",
    "                                                       max_depth=max_depth,\n",
    "                                                       oob_score = True)).fit(x, y)\n",
    "    else:\n",
    "        pipeline = make_pipeline(OrdinalEncoder(),\n",
    "                                 RandomForestClassifier(n_estimators=n_estimators,\n",
    "                                                       max_samples=max_samples,\n",
    "                                                       max_features=max_features,\n",
    "                                                       max_depth=max_depth,\n",
    "                                                       oob_score = True)).fit(x, y)\n",
    "        \n",
    "    return pipeline"
   ]
  },
  {
   "cell_type": "code",
   "execution_count": 739,
   "id": "ba045577",
   "metadata": {},
   "outputs": [
    {
     "data": {
      "text/html": [
       "<style>#sk-container-id-18 {color: black;background-color: white;}#sk-container-id-18 pre{padding: 0;}#sk-container-id-18 div.sk-toggleable {background-color: white;}#sk-container-id-18 label.sk-toggleable__label {cursor: pointer;display: block;width: 100%;margin-bottom: 0;padding: 0.3em;box-sizing: border-box;text-align: center;}#sk-container-id-18 label.sk-toggleable__label-arrow:before {content: \"▸\";float: left;margin-right: 0.25em;color: #696969;}#sk-container-id-18 label.sk-toggleable__label-arrow:hover:before {color: black;}#sk-container-id-18 div.sk-estimator:hover label.sk-toggleable__label-arrow:before {color: black;}#sk-container-id-18 div.sk-toggleable__content {max-height: 0;max-width: 0;overflow: hidden;text-align: left;background-color: #f0f8ff;}#sk-container-id-18 div.sk-toggleable__content pre {margin: 0.2em;color: black;border-radius: 0.25em;background-color: #f0f8ff;}#sk-container-id-18 input.sk-toggleable__control:checked~div.sk-toggleable__content {max-height: 200px;max-width: 100%;overflow: auto;}#sk-container-id-18 input.sk-toggleable__control:checked~label.sk-toggleable__label-arrow:before {content: \"▾\";}#sk-container-id-18 div.sk-estimator input.sk-toggleable__control:checked~label.sk-toggleable__label {background-color: #d4ebff;}#sk-container-id-18 div.sk-label input.sk-toggleable__control:checked~label.sk-toggleable__label {background-color: #d4ebff;}#sk-container-id-18 input.sk-hidden--visually {border: 0;clip: rect(1px 1px 1px 1px);clip: rect(1px, 1px, 1px, 1px);height: 1px;margin: -1px;overflow: hidden;padding: 0;position: absolute;width: 1px;}#sk-container-id-18 div.sk-estimator {font-family: monospace;background-color: #f0f8ff;border: 1px dotted black;border-radius: 0.25em;box-sizing: border-box;margin-bottom: 0.5em;}#sk-container-id-18 div.sk-estimator:hover {background-color: #d4ebff;}#sk-container-id-18 div.sk-parallel-item::after {content: \"\";width: 100%;border-bottom: 1px solid gray;flex-grow: 1;}#sk-container-id-18 div.sk-label:hover label.sk-toggleable__label {background-color: #d4ebff;}#sk-container-id-18 div.sk-serial::before {content: \"\";position: absolute;border-left: 1px solid gray;box-sizing: border-box;top: 0;bottom: 0;left: 50%;z-index: 0;}#sk-container-id-18 div.sk-serial {display: flex;flex-direction: column;align-items: center;background-color: white;padding-right: 0.2em;padding-left: 0.2em;position: relative;}#sk-container-id-18 div.sk-item {position: relative;z-index: 1;}#sk-container-id-18 div.sk-parallel {display: flex;align-items: stretch;justify-content: center;background-color: white;position: relative;}#sk-container-id-18 div.sk-item::before, #sk-container-id-18 div.sk-parallel-item::before {content: \"\";position: absolute;border-left: 1px solid gray;box-sizing: border-box;top: 0;bottom: 0;left: 50%;z-index: -1;}#sk-container-id-18 div.sk-parallel-item {display: flex;flex-direction: column;z-index: 1;position: relative;background-color: white;}#sk-container-id-18 div.sk-parallel-item:first-child::after {align-self: flex-end;width: 50%;}#sk-container-id-18 div.sk-parallel-item:last-child::after {align-self: flex-start;width: 50%;}#sk-container-id-18 div.sk-parallel-item:only-child::after {width: 0;}#sk-container-id-18 div.sk-dashed-wrapped {border: 1px dashed gray;margin: 0 0.4em 0.5em 0.4em;box-sizing: border-box;padding-bottom: 0.4em;background-color: white;}#sk-container-id-18 div.sk-label label {font-family: monospace;font-weight: bold;display: inline-block;line-height: 1.2em;}#sk-container-id-18 div.sk-label-container {text-align: center;}#sk-container-id-18 div.sk-container {/* jupyter's `normalize.less` sets `[hidden] { display: none; }` but bootstrap.min.css set `[hidden] { display: none !important; }` so we also need the `!important` here to be able to override the default hidden behavior on the sphinx rendered scikit-learn.org. See: https://github.com/scikit-learn/scikit-learn/issues/21755 */display: inline-block !important;position: relative;}#sk-container-id-18 div.sk-text-repr-fallback {display: none;}</style><div id=\"sk-container-id-18\" class=\"sk-top-container\"><div class=\"sk-text-repr-fallback\"><pre>Pipeline(steps=[(&#x27;ordinalencoder-1&#x27;,\n",
       "                 OrdinalEncoder(cols=[&#x27;ListingCreationDate&#x27;, &#x27;ProsperRating&#x27;],\n",
       "                                mapping=[{&#x27;col&#x27;: &#x27;ProsperRating&#x27;,\n",
       "                                          &#x27;mapping&#x27;: {&#x27;A&#x27;: 2, &#x27;AA&#x27;: 1, &#x27;B&#x27;: 3,\n",
       "                                                      &#x27;C&#x27;: 4, &#x27;D&#x27;: 5, &#x27;E&#x27;: 6,\n",
       "                                                      &#x27;HR&#x27;: 7, &#x27;NC&#x27;: 0}}])),\n",
       "                (&#x27;ordinalencoder-2&#x27;,\n",
       "                 OrdinalEncoder(cols=[&#x27;ListingCreationDate&#x27;],\n",
       "                                mapping=[{&#x27;col&#x27;: &#x27;ListingCreationDate&#x27;,\n",
       "                                          &#x27;data_type&#x27;: dtype(&#x27;O&#x27;),\n",
       "                                          &#x27;mapping&#x27;: 2007-09-18       1\n",
       "2008-04-22       2\n",
       "2010-08-17       3\n",
       "2007-04-06       4\n",
       "2006-07-23       5\n",
       "              ... \n",
       "2009-05-06    2528\n",
       "2014-01-04    2529\n",
       "2014-02-04    2530\n",
       "2013-11-28    2531\n",
       "NaN             -2\n",
       "Length: 2532, dtype: int64}])),\n",
       "                (&#x27;randomforestclassifier&#x27;,\n",
       "                 RandomForestClassifier(max_depth=15, max_features=&#x27;log2&#x27;,\n",
       "                                        max_samples=0.5, n_estimators=400,\n",
       "                                        oob_score=True))])</pre><b>In a Jupyter environment, please rerun this cell to show the HTML representation or trust the notebook. <br />On GitHub, the HTML representation is unable to render, please try loading this page with nbviewer.org.</b></div><div class=\"sk-container\" hidden><div class=\"sk-item sk-dashed-wrapped\"><div class=\"sk-label-container\"><div class=\"sk-label sk-toggleable\"><input class=\"sk-toggleable__control sk-hidden--visually\" id=\"sk-estimator-id-35\" type=\"checkbox\" ><label for=\"sk-estimator-id-35\" class=\"sk-toggleable__label sk-toggleable__label-arrow\">Pipeline</label><div class=\"sk-toggleable__content\"><pre>Pipeline(steps=[(&#x27;ordinalencoder-1&#x27;,\n",
       "                 OrdinalEncoder(cols=[&#x27;ListingCreationDate&#x27;, &#x27;ProsperRating&#x27;],\n",
       "                                mapping=[{&#x27;col&#x27;: &#x27;ProsperRating&#x27;,\n",
       "                                          &#x27;mapping&#x27;: {&#x27;A&#x27;: 2, &#x27;AA&#x27;: 1, &#x27;B&#x27;: 3,\n",
       "                                                      &#x27;C&#x27;: 4, &#x27;D&#x27;: 5, &#x27;E&#x27;: 6,\n",
       "                                                      &#x27;HR&#x27;: 7, &#x27;NC&#x27;: 0}}])),\n",
       "                (&#x27;ordinalencoder-2&#x27;,\n",
       "                 OrdinalEncoder(cols=[&#x27;ListingCreationDate&#x27;],\n",
       "                                mapping=[{&#x27;col&#x27;: &#x27;ListingCreationDate&#x27;,\n",
       "                                          &#x27;data_type&#x27;: dtype(&#x27;O&#x27;),\n",
       "                                          &#x27;mapping&#x27;: 2007-09-18       1\n",
       "2008-04-22       2\n",
       "2010-08-17       3\n",
       "2007-04-06       4\n",
       "2006-07-23       5\n",
       "              ... \n",
       "2009-05-06    2528\n",
       "2014-01-04    2529\n",
       "2014-02-04    2530\n",
       "2013-11-28    2531\n",
       "NaN             -2\n",
       "Length: 2532, dtype: int64}])),\n",
       "                (&#x27;randomforestclassifier&#x27;,\n",
       "                 RandomForestClassifier(max_depth=15, max_features=&#x27;log2&#x27;,\n",
       "                                        max_samples=0.5, n_estimators=400,\n",
       "                                        oob_score=True))])</pre></div></div></div><div class=\"sk-serial\"><div class=\"sk-item\"><div class=\"sk-estimator sk-toggleable\"><input class=\"sk-toggleable__control sk-hidden--visually\" id=\"sk-estimator-id-36\" type=\"checkbox\" ><label for=\"sk-estimator-id-36\" class=\"sk-toggleable__label sk-toggleable__label-arrow\">OrdinalEncoder</label><div class=\"sk-toggleable__content\"><pre>OrdinalEncoder(cols=[&#x27;ListingCreationDate&#x27;, &#x27;ProsperRating&#x27;],\n",
       "               mapping=[{&#x27;col&#x27;: &#x27;ProsperRating&#x27;,\n",
       "                         &#x27;mapping&#x27;: {&#x27;A&#x27;: 2, &#x27;AA&#x27;: 1, &#x27;B&#x27;: 3, &#x27;C&#x27;: 4, &#x27;D&#x27;: 5,\n",
       "                                     &#x27;E&#x27;: 6, &#x27;HR&#x27;: 7, &#x27;NC&#x27;: 0}}])</pre></div></div></div><div class=\"sk-item\"><div class=\"sk-estimator sk-toggleable\"><input class=\"sk-toggleable__control sk-hidden--visually\" id=\"sk-estimator-id-37\" type=\"checkbox\" ><label for=\"sk-estimator-id-37\" class=\"sk-toggleable__label sk-toggleable__label-arrow\">OrdinalEncoder</label><div class=\"sk-toggleable__content\"><pre>OrdinalEncoder(cols=[&#x27;ListingCreationDate&#x27;],\n",
       "               mapping=[{&#x27;col&#x27;: &#x27;ListingCreationDate&#x27;, &#x27;data_type&#x27;: dtype(&#x27;O&#x27;),\n",
       "                         &#x27;mapping&#x27;: 2007-09-18       1\n",
       "2008-04-22       2\n",
       "2010-08-17       3\n",
       "2007-04-06       4\n",
       "2006-07-23       5\n",
       "              ... \n",
       "2009-05-06    2528\n",
       "2014-01-04    2529\n",
       "2014-02-04    2530\n",
       "2013-11-28    2531\n",
       "NaN             -2\n",
       "Length: 2532, dtype: int64}])</pre></div></div></div><div class=\"sk-item\"><div class=\"sk-estimator sk-toggleable\"><input class=\"sk-toggleable__control sk-hidden--visually\" id=\"sk-estimator-id-38\" type=\"checkbox\" ><label for=\"sk-estimator-id-38\" class=\"sk-toggleable__label sk-toggleable__label-arrow\">RandomForestClassifier</label><div class=\"sk-toggleable__content\"><pre>RandomForestClassifier(max_depth=15, max_features=&#x27;log2&#x27;, max_samples=0.5,\n",
       "                       n_estimators=400, oob_score=True)</pre></div></div></div></div></div></div></div>"
      ],
      "text/plain": [
       "Pipeline(steps=[('ordinalencoder-1',\n",
       "                 OrdinalEncoder(cols=['ListingCreationDate', 'ProsperRating'],\n",
       "                                mapping=[{'col': 'ProsperRating',\n",
       "                                          'mapping': {'A': 2, 'AA': 1, 'B': 3,\n",
       "                                                      'C': 4, 'D': 5, 'E': 6,\n",
       "                                                      'HR': 7, 'NC': 0}}])),\n",
       "                ('ordinalencoder-2',\n",
       "                 OrdinalEncoder(cols=['ListingCreationDate'],\n",
       "                                mapping=[{'col': 'ListingCreationDate',\n",
       "                                          'data_type': dtype('O'),\n",
       "                                          'mapping': 2007-09-18       1\n",
       "2008-04-22       2\n",
       "2010-08-17       3\n",
       "2007-04-06       4\n",
       "2006-07-23       5\n",
       "              ... \n",
       "2009-05-06    2528\n",
       "2014-01-04    2529\n",
       "2014-02-04    2530\n",
       "2013-11-28    2531\n",
       "NaN             -2\n",
       "Length: 2532, dtype: int64}])),\n",
       "                ('randomforestclassifier',\n",
       "                 RandomForestClassifier(max_depth=15, max_features='log2',\n",
       "                                        max_samples=0.5, n_estimators=400,\n",
       "                                        oob_score=True))])"
      ]
     },
     "execution_count": 739,
     "metadata": {},
     "output_type": "execute_result"
    }
   ],
   "source": [
    "m_fi = rf_modelling(X_fi, y_train)\n",
    "m_fi"
   ]
  },
  {
   "cell_type": "code",
   "execution_count": 741,
   "id": "eadc9c1b",
   "metadata": {},
   "outputs": [
    {
     "data": {
      "text/plain": [
       "0.7059363799283154"
      ]
     },
     "execution_count": 741,
     "metadata": {},
     "output_type": "execute_result"
    }
   ],
   "source": [
    "#Check oob_score\n",
    "m_fi.named_steps[\"randomforestclassifier\"].oob_score_"
   ]
  },
  {
   "cell_type": "code",
   "execution_count": 744,
   "id": "7247771d",
   "metadata": {},
   "outputs": [
    {
     "data": {
      "text/plain": [
       "0.7109577994803333"
      ]
     },
     "execution_count": 744,
     "metadata": {},
     "output_type": "execute_result"
    }
   ],
   "source": [
    "#Extract model from the pipeline\n",
    "rfm_fi = m_fi.named_steps[\"randomforestclassifier\"]\n",
    "\n",
    "#Convert X_test_t to access only feature importannt variables\n",
    "\n",
    "X_test_fi = X_test_t[fi[fi>0.04].index]\n",
    "\n",
    "#Check accuracy score on the X_test\n",
    "accuracy_score(y_test, rfm_fi.predict(X_test_fi))"
   ]
  },
  {
   "cell_type": "markdown",
   "id": "0b74e51b",
   "metadata": {},
   "source": [
    "When we observe the accuracy, we see that the accuracy has slightly increased. And we now have lesser columns to deal with."
   ]
  },
  {
   "cell_type": "code",
   "execution_count": 675,
   "id": "4b05fd85",
   "metadata": {},
   "outputs": [],
   "source": [
    "#Define function that returns the plot of feature importance given the model and the dataset\n",
    "\n",
    "def plot_fi(rf_model, x, figsize):\n",
    "    series = pd.Series(rf_model.feature_importances_, index=x.columns).sort_values(ascending=False)\n",
    "    return series.plot(kind=\"barh\", figsize=figsize)"
   ]
  },
  {
   "cell_type": "code",
   "execution_count": 745,
   "id": "e251bf41",
   "metadata": {},
   "outputs": [
    {
     "data": {
      "image/png": "[encoded data removed]",
      "text/plain": [
       "<Figure size 864x504 with 1 Axes>"
      ]
     },
     "metadata": {
      "needs_background": "light"
     },
     "output_type": "display_data"
    }
   ],
   "source": [
    "plot_fi(rfm_fi, X_fi, figsize=[12,7]);"
   ]
  },
  {
   "cell_type": "markdown",
   "id": "7a12b2ce",
   "metadata": {},
   "source": [
    "Use the fastbook `cluster columns` to draw a tree that shows how related (using a pearson correlation coefficient unerhood) different columns of a dataset are."
   ]
  },
  {
   "cell_type": "code",
   "execution_count": 746,
   "id": "e7e66bd7",
   "metadata": {},
   "outputs": [
    {
     "data": {
      "image/png": "[encoded data removed]",
      "text/plain": [
       "<Figure size 720x432 with 1 Axes>"
      ]
     },
     "metadata": {
      "needs_background": "light"
     },
     "output_type": "display_data"
    }
   ],
   "source": [
    "cluster_columns(X_fi)"
   ]
  },
  {
   "cell_type": "code",
   "execution_count": 757,
   "id": "7aef3566",
   "metadata": {},
   "outputs": [],
   "source": [
    "#Create a list of tightly coupled data\n",
    "\n",
    "corr_features = [\"LoanOriginalAmount\", \"MonthlyLoanPayment\", \"OpenRevolvingMonthlyPayment\", \"RevolveRatio\",\n",
    "\"InquiriesLast6Months\", \"TotalInquiries\", \"BorrowerAPR\", \"ProsperRating\"]"
   ]
  },
  {
   "cell_type": "code",
   "execution_count": 748,
   "id": "9e678a05",
   "metadata": {},
   "outputs": [],
   "source": [
    "#Let us drop each feature, train each dataframe result and check the effect on the oob_score of the model\n",
    "\n",
    "def get_oob(df):\n",
    "    p = rf_modelling(df, y_train, n_estimators=400, max_samples=0.25, max_depth=10)\n",
    "    return p.named_steps[\"randomforestclassifier\"].oob_score_"
   ]
  },
  {
   "cell_type": "code",
   "execution_count": 749,
   "id": "6836d915",
   "metadata": {},
   "outputs": [
    {
     "data": {
      "text/plain": [
       "0.7040546594982079"
      ]
     },
     "execution_count": 749,
     "metadata": {},
     "output_type": "execute_result"
    }
   ],
   "source": [
    "#Print baseline for X_fi\n",
    "\n",
    "get_oob(X_fi)"
   ]
  },
  {
   "cell_type": "code",
   "execution_count": 766,
   "id": "dd291e75",
   "metadata": {
    "scrolled": false
   },
   "outputs": [
    {
     "data": {
      "text/plain": [
       "{'LoanOriginalAmount': 0.7029345878136201,\n",
       " 'MonthlyLoanPayment': 0.7011872759856631,\n",
       " 'OpenRevolvingMonthlyPayment': 0.7049731182795699,\n",
       " 'RevolveRatio': 0.7055107526881721,\n",
       " 'InquiriesLast6Months': 0.703584229390681,\n",
       " 'TotalInquiries': 0.7027329749103942,\n",
       " 'BorrowerAPR': 0.702844982078853,\n",
       " 'ProsperRating': 0.7022625448028674}"
      ]
     },
     "execution_count": 766,
     "metadata": {},
     "output_type": "execute_result"
    }
   ],
   "source": [
    "#Use dictionary comprehension to see the effect of each column on the oob_score_\n",
    "\n",
    "{c:get_oob(X_fi.drop(columns=c)) for c in corr_features}"
   ]
  },
  {
   "cell_type": "markdown",
   "id": "b1e70ca4",
   "metadata": {},
   "source": [
    "From the above output, we see that most of the columns do not really result in a low oob_score_. We can remove one feature from each pair of features, columns that if removed, they will result in a better oob_score."
   ]
  },
  {
   "cell_type": "code",
   "execution_count": 769,
   "id": "e9267f99",
   "metadata": {},
   "outputs": [],
   "source": [
    "to_drop = [\"LoanOriginalAmount\", \"OpenRevolvingMonthlyPayment\", \"InquiriesLast6Months\"]\n",
    "#I left both borowerAPR and ProsperRating because of their high contributions"
   ]
  },
  {
   "cell_type": "code",
   "execution_count": 771,
   "id": "c0132265",
   "metadata": {},
   "outputs": [],
   "source": [
    "#Define function that takes extracts onl rf model\n",
    "\n",
    "def extract_rf(model):\n",
    "    return model.named_steps[\"randomforestclassifier\"]"
   ]
  },
  {
   "cell_type": "code",
   "execution_count": 772,
   "id": "4e38261c",
   "metadata": {},
   "outputs": [
    {
     "data": {
      "text/plain": [
       "0.7097034315921512"
      ]
     },
     "execution_count": 772,
     "metadata": {},
     "output_type": "execute_result"
    }
   ],
   "source": [
    "#Now let us drop these columns and retrain the model and check the accuracy\n",
    "\n",
    "X_drop = X_fi.drop(columns=to_drop)\n",
    "X_test_drop = X_test_fi.drop(columns=to_drop)\n",
    "\n",
    "#Retrain model\n",
    "model_drop = rf_modelling(X_drop, y_train)\n",
    "\n",
    "#Check accuracy\n",
    "accuracy_score(y_test, extract_rf(model_drop).predict(X_test_drop))"
   ]
  },
  {
   "cell_type": "code",
   "execution_count": 861,
   "id": "d6c2214f",
   "metadata": {},
   "outputs": [
    {
     "data": {
      "text/plain": [
       "0.7029793906810036"
      ]
     },
     "execution_count": 861,
     "metadata": {},
     "output_type": "execute_result"
    }
   ],
   "source": [
    "#Print oobscore\n",
    "extract_rf(model_drop).oob_score_"
   ]
  },
  {
   "cell_type": "markdown",
   "id": "f14c73c3",
   "metadata": {},
   "source": [
    "From this, we observe that we have removed so many redundant columns and even in some cases improved the model and most especially the explicability of a model.\n",
    "\n",
    "#### Partial Dependence\n",
    "\n",
    "Partial dependence refers to how the prediction of a model depends on a particular feature alone. This means that how will the model vary if only a feature is varied and all other features are kept constant. We will be using sklearn inspection tool for this."
   ]
  },
  {
   "cell_type": "code",
   "execution_count": 784,
   "id": "f5a5a6f3",
   "metadata": {},
   "outputs": [
    {
     "data": {
      "image/png": "[encoded data removed]",
      "text/plain": [
       "<Figure size 1152x360 with 4 Axes>"
      ]
     },
     "metadata": {
      "needs_background": "light"
     },
     "output_type": "display_data"
    }
   ],
   "source": [
    "#plt.figure(figsize=[12,7])\n",
    "fig, ax = plt.subplots(2, 2, figsize=[16, 5])\n",
    "\n",
    "plot_partial_dependence(model_drop, X_test_drop, [\"BorrowerAPR\", \"MonthlyLoanPayment\",\n",
    "                                                  \"ProsperRating\", \"StatedMonthlyIncome\"], ax=ax);"
   ]
  },
  {
   "cell_type": "markdown",
   "id": "fd842309",
   "metadata": {},
   "source": [
    "From the plots of the partial dependence of the three features(that we chose from) above, we do observe the following:\n",
    "- There is a general increase in the partial dependence or the possibility of a person to default a Loan as the BorrowerAPR increases or MonthlyLoanPayment increases which actually makes sense.\n",
    "- However, we see that the possibility of a person defaulting a loan does not seem to depend on varying the ProsperRating, or rather that the model could not pick it up.\n",
    "- Also, as the StatedMonthlyIncome increases, so does the possibility (partial dependence) of defaulting a loan decreases but sort of wears out (reduces) and flattens out at around 4000.\n",
    "\n",
    "\n",
    "#### Using tree interpreter and waterfall charts to explain a given prediction.\n",
    "\n",
    "We will be making use of the tree interpreter library to generate the prediction, bias and contributions of a given test value."
   ]
  },
  {
   "cell_type": "code",
   "execution_count": 785,
   "id": "468f5272",
   "metadata": {},
   "outputs": [],
   "source": [
    "rf_model_drop = extract_rf(model_drop)"
   ]
  },
  {
   "cell_type": "code",
   "execution_count": 787,
   "id": "1cb355d8",
   "metadata": {},
   "outputs": [
    {
     "data": {
      "text/html": [
       "<div>\n",
       "<style scoped>\n",
       "    .dataframe tbody tr th:only-of-type {\n",
       "        vertical-align: middle;\n",
       "    }\n",
       "\n",
       "    .dataframe tbody tr th {\n",
       "        vertical-align: top;\n",
       "    }\n",
       "\n",
       "    .dataframe thead th {\n",
       "        text-align: right;\n",
       "    }\n",
       "</style>\n",
       "<table border=\"1\" class=\"dataframe\">\n",
       "  <thead>\n",
       "    <tr style=\"text-align: right;\">\n",
       "      <th></th>\n",
       "      <th>BorrowerAPR</th>\n",
       "      <th>MonthlyLoanPayment</th>\n",
       "      <th>TotalInquiries</th>\n",
       "      <th>StatedMonthlyIncome</th>\n",
       "      <th>RevolveRatio</th>\n",
       "      <th>ListingCreationDate</th>\n",
       "      <th>DebtToIncomeRatio</th>\n",
       "      <th>ProsperRating</th>\n",
       "    </tr>\n",
       "  </thead>\n",
       "  <tbody>\n",
       "    <tr>\n",
       "      <th>17480</th>\n",
       "      <td>0.07607</td>\n",
       "      <td>30.38</td>\n",
       "      <td>4.0</td>\n",
       "      <td>2166.666667</td>\n",
       "      <td>0.004615</td>\n",
       "      <td>1</td>\n",
       "      <td>0.02</td>\n",
       "      <td>1</td>\n",
       "    </tr>\n",
       "    <tr>\n",
       "      <th>7123</th>\n",
       "      <td>0.32297</td>\n",
       "      <td>106.02</td>\n",
       "      <td>5.0</td>\n",
       "      <td>1066.666667</td>\n",
       "      <td>0.177187</td>\n",
       "      <td>2</td>\n",
       "      <td>0.60</td>\n",
       "      <td>5</td>\n",
       "    </tr>\n",
       "    <tr>\n",
       "      <th>2076</th>\n",
       "      <td>0.35643</td>\n",
       "      <td>174.20</td>\n",
       "      <td>2.0</td>\n",
       "      <td>8333.333333</td>\n",
       "      <td>0.465360</td>\n",
       "      <td>3</td>\n",
       "      <td>0.69</td>\n",
       "      <td>6</td>\n",
       "    </tr>\n",
       "  </tbody>\n",
       "</table>\n",
       "</div>"
      ],
      "text/plain": [
       "       BorrowerAPR  MonthlyLoanPayment  TotalInquiries  StatedMonthlyIncome  \\\n",
       "17480      0.07607               30.38             4.0          2166.666667   \n",
       "7123       0.32297              106.02             5.0          1066.666667   \n",
       "2076       0.35643              174.20             2.0          8333.333333   \n",
       "\n",
       "       RevolveRatio  ListingCreationDate  DebtToIncomeRatio  ProsperRating  \n",
       "17480      0.004615                    1               0.02              1  \n",
       "7123       0.177187                    2               0.60              5  \n",
       "2076       0.465360                    3               0.69              6  "
      ]
     },
     "execution_count": 787,
     "metadata": {},
     "output_type": "execute_result"
    }
   ],
   "source": [
    "rows = X_test_drop.iloc[:100]\n",
    "rows.head(3)"
   ]
  },
  {
   "cell_type": "code",
   "execution_count": 831,
   "id": "4eb055ef",
   "metadata": {},
   "outputs": [],
   "source": [
    "prediction,bias,contributions = treeinterpreter.predict(rf_model_drop, rows.values)"
   ]
  },
  {
   "cell_type": "code",
   "execution_count": 816,
   "id": "4ba879e0",
   "metadata": {},
   "outputs": [
    {
     "data": {
      "image/png": "[encoded data removed]",
      "text/plain": [
       "<Figure size 432x288 with 1 Axes>"
      ]
     },
     "metadata": {
      "needs_background": "light"
     },
     "output_type": "display_data"
    }
   ],
   "source": [
    "waterfall(X_test_drop.columns, contributions[0][:,1], threshold=0.08, \n",
    "          rotation_value=90,formatting='{:,.3f}');"
   ]
  },
  {
   "cell_type": "code",
   "execution_count": 818,
   "id": "1e0ad55b",
   "metadata": {},
   "outputs": [
    {
     "data": {
      "image/png": "[encoded data removed]",
      "text/plain": [
       "<Figure size 432x288 with 1 Axes>"
      ]
     },
     "metadata": {
      "needs_background": "light"
     },
     "output_type": "display_data"
    }
   ],
   "source": [
    "waterfall(X_test_drop.columns, contributions[3][:,1], threshold=0.08, \n",
    "          rotation_value=90,formatting='{:,.3f}');"
   ]
  },
  {
   "cell_type": "markdown",
   "id": "4dfd2091",
   "metadata": {},
   "source": [
    "The waterfall plots above show how individual features contribute to the preiction that was made by the random forest model."
   ]
  },
  {
   "cell_type": "markdown",
   "id": "e3faab1e",
   "metadata": {},
   "source": [
    "#### Random Forest Extrapolation Problem.\n",
    "\n",
    "Random Forest is known to not be able to extrapolate well with attributes of a feature it has not seen before. In order to mitigate against this in the valid dataset and in future datasets. It is important to first to have designed a good validation set which should be a good representation of the test set that is being envisaged. Then to check which features of the dataset is likely to cause extrapolation issues from the validation set in comparism to the training set. This can be done with using random forest. Let us continue with this."
   ]
  },
  {
   "cell_type": "code",
   "execution_count": 840,
   "id": "1ee8c7ee",
   "metadata": {},
   "outputs": [],
   "source": [
    "X_extrapolation = pd.concat([X_drop, X_test_drop])\n",
    "is_test = np.array([0] *len(X_drop) + [1]*len(X_test_drop))\n",
    "\n",
    "#Model the forest to get feature importance\n",
    "extra_model = rf_modelling(X_extrapolation, is_test)"
   ]
  },
  {
   "cell_type": "code",
   "execution_count": 844,
   "id": "cd2ffafc",
   "metadata": {},
   "outputs": [
    {
     "data": {
      "image/png": "[encoded data removed]",
      "text/plain": [
       "<Figure size 432x288 with 1 Axes>"
      ]
     },
     "metadata": {
      "needs_background": "light"
     },
     "output_type": "display_data"
    }
   ],
   "source": [
    "#Extract model\n",
    "rf_extra = extract_rf(extra_model)\n",
    "\n",
    "#\n",
    "pd.Series(rf_extra.feature_importances_, X_extrapolation.columns).sort_values().plot(kind=\"barh\");"
   ]
  },
  {
   "cell_type": "code",
   "execution_count": 850,
   "id": "271108ce",
   "metadata": {},
   "outputs": [
    {
     "data": {
      "text/plain": [
       "1.0"
      ]
     },
     "execution_count": 850,
     "metadata": {},
     "output_type": "execute_result"
    }
   ],
   "source": [
    "accuracy_score(is_test, extra_model.predict(X_extrapolation))"
   ]
  },
  {
   "cell_type": "code",
   "execution_count": 851,
   "id": "46e919b8",
   "metadata": {},
   "outputs": [
    {
     "data": {
      "text/plain": [
       "array([0, 0, 0, ..., 1, 1, 1])"
      ]
     },
     "execution_count": 851,
     "metadata": {},
     "output_type": "execute_result"
    }
   ],
   "source": [
    "extra_model.predict(X_extrapolation)"
   ]
  },
  {
   "cell_type": "markdown",
   "id": "e6e6e0eb",
   "metadata": {},
   "source": [
    "Listing Creation Date and Prosper Rating seem to be two features that were use in the splitting to identy between which dataframe is a train set and which one is a test set"
   ]
  },
  {
   "cell_type": "code",
   "execution_count": 853,
   "id": "cb47189d",
   "metadata": {},
   "outputs": [
    {
     "data": {
      "text/plain": [
       "0.7029793906810036"
      ]
     },
     "execution_count": 853,
     "metadata": {},
     "output_type": "execute_result"
    }
   ],
   "source": [
    "#Baseline oob score for the model drop\n",
    "\n",
    "extract_rf(model_drop).oob_score_"
   ]
  },
  {
   "cell_type": "code",
   "execution_count": 859,
   "id": "752e1f09",
   "metadata": {},
   "outputs": [
    {
     "name": "stdout",
     "output_type": "stream",
     "text": [
      "Warning: No categorical columns found. Calling 'transform' will only return input data.\n",
      "Warning: No categorical columns found. Calling 'transform' will only return input data.\n",
      "Warning: No categorical columns found. Calling 'transform' will only return input data.\n"
     ]
    },
    {
     "data": {
      "text/plain": [
       "{'ListingCreationDate': 0.7036514336917563,\n",
       " 'ProsperRating': 0.7000224014336918}"
      ]
     },
     "execution_count": 859,
     "metadata": {},
     "output_type": "execute_result"
    }
   ],
   "source": [
    "#Let us see the effect of dropping the columns on the oob score\n",
    "X_drop_t = cat_encoder.transform(X_drop)\n",
    "{c:get_oob(X_drop_t.drop(columns=c)) for c in [\"ListingCreationDate\", \"ProsperRating\"]}"
   ]
  },
  {
   "cell_type": "markdown",
   "id": "c5fb75bf",
   "metadata": {},
   "source": [
    "Dropping ProsperRating reduces the oob_score compared to ListingCreationDate. Dropping the listing creation date seems to improve the oob score. We also do know that ListingCreation Date is going to be very different from each other, so it makes very much sense that they can cause extrapolation problem. I will thus drop Listing Creation Date and train the model on this as our final model."
   ]
  },
  {
   "cell_type": "code",
   "execution_count": 863,
   "id": "4b47c1a3",
   "metadata": {},
   "outputs": [],
   "source": [
    "X_final = X_drop.drop(columns=\"ListingCreationDate\")\n",
    "X_test_final = X_test_drop.drop(columns=\"ListingCreationDate\")"
   ]
  },
  {
   "cell_type": "code",
   "execution_count": 864,
   "id": "af241b3c",
   "metadata": {},
   "outputs": [
    {
     "name": "stdout",
     "output_type": "stream",
     "text": [
      "Warning: No categorical columns found. Calling 'transform' will only return input data.\n"
     ]
    },
    {
     "data": {
      "text/html": [
       "<style>#sk-container-id-21 {color: black;background-color: white;}#sk-container-id-21 pre{padding: 0;}#sk-container-id-21 div.sk-toggleable {background-color: white;}#sk-container-id-21 label.sk-toggleable__label {cursor: pointer;display: block;width: 100%;margin-bottom: 0;padding: 0.3em;box-sizing: border-box;text-align: center;}#sk-container-id-21 label.sk-toggleable__label-arrow:before {content: \"▸\";float: left;margin-right: 0.25em;color: #696969;}#sk-container-id-21 label.sk-toggleable__label-arrow:hover:before {color: black;}#sk-container-id-21 div.sk-estimator:hover label.sk-toggleable__label-arrow:before {color: black;}#sk-container-id-21 div.sk-toggleable__content {max-height: 0;max-width: 0;overflow: hidden;text-align: left;background-color: #f0f8ff;}#sk-container-id-21 div.sk-toggleable__content pre {margin: 0.2em;color: black;border-radius: 0.25em;background-color: #f0f8ff;}#sk-container-id-21 input.sk-toggleable__control:checked~div.sk-toggleable__content {max-height: 200px;max-width: 100%;overflow: auto;}#sk-container-id-21 input.sk-toggleable__control:checked~label.sk-toggleable__label-arrow:before {content: \"▾\";}#sk-container-id-21 div.sk-estimator input.sk-toggleable__control:checked~label.sk-toggleable__label {background-color: #d4ebff;}#sk-container-id-21 div.sk-label input.sk-toggleable__control:checked~label.sk-toggleable__label {background-color: #d4ebff;}#sk-container-id-21 input.sk-hidden--visually {border: 0;clip: rect(1px 1px 1px 1px);clip: rect(1px, 1px, 1px, 1px);height: 1px;margin: -1px;overflow: hidden;padding: 0;position: absolute;width: 1px;}#sk-container-id-21 div.sk-estimator {font-family: monospace;background-color: #f0f8ff;border: 1px dotted black;border-radius: 0.25em;box-sizing: border-box;margin-bottom: 0.5em;}#sk-container-id-21 div.sk-estimator:hover {background-color: #d4ebff;}#sk-container-id-21 div.sk-parallel-item::after {content: \"\";width: 100%;border-bottom: 1px solid gray;flex-grow: 1;}#sk-container-id-21 div.sk-label:hover label.sk-toggleable__label {background-color: #d4ebff;}#sk-container-id-21 div.sk-serial::before {content: \"\";position: absolute;border-left: 1px solid gray;box-sizing: border-box;top: 0;bottom: 0;left: 50%;z-index: 0;}#sk-container-id-21 div.sk-serial {display: flex;flex-direction: column;align-items: center;background-color: white;padding-right: 0.2em;padding-left: 0.2em;position: relative;}#sk-container-id-21 div.sk-item {position: relative;z-index: 1;}#sk-container-id-21 div.sk-parallel {display: flex;align-items: stretch;justify-content: center;background-color: white;position: relative;}#sk-container-id-21 div.sk-item::before, #sk-container-id-21 div.sk-parallel-item::before {content: \"\";position: absolute;border-left: 1px solid gray;box-sizing: border-box;top: 0;bottom: 0;left: 50%;z-index: -1;}#sk-container-id-21 div.sk-parallel-item {display: flex;flex-direction: column;z-index: 1;position: relative;background-color: white;}#sk-container-id-21 div.sk-parallel-item:first-child::after {align-self: flex-end;width: 50%;}#sk-container-id-21 div.sk-parallel-item:last-child::after {align-self: flex-start;width: 50%;}#sk-container-id-21 div.sk-parallel-item:only-child::after {width: 0;}#sk-container-id-21 div.sk-dashed-wrapped {border: 1px dashed gray;margin: 0 0.4em 0.5em 0.4em;box-sizing: border-box;padding-bottom: 0.4em;background-color: white;}#sk-container-id-21 div.sk-label label {font-family: monospace;font-weight: bold;display: inline-block;line-height: 1.2em;}#sk-container-id-21 div.sk-label-container {text-align: center;}#sk-container-id-21 div.sk-container {/* jupyter's `normalize.less` sets `[hidden] { display: none; }` but bootstrap.min.css set `[hidden] { display: none !important; }` so we also need the `!important` here to be able to override the default hidden behavior on the sphinx rendered scikit-learn.org. See: https://github.com/scikit-learn/scikit-learn/issues/21755 */display: inline-block !important;position: relative;}#sk-container-id-21 div.sk-text-repr-fallback {display: none;}</style><div id=\"sk-container-id-21\" class=\"sk-top-container\"><div class=\"sk-text-repr-fallback\"><pre>Pipeline(steps=[(&#x27;ordinalencoder-1&#x27;,\n",
       "                 OrdinalEncoder(cols=[&#x27;ProsperRating&#x27;],\n",
       "                                mapping=[{&#x27;col&#x27;: &#x27;ProsperRating&#x27;,\n",
       "                                          &#x27;mapping&#x27;: {&#x27;A&#x27;: 2, &#x27;AA&#x27;: 1, &#x27;B&#x27;: 3,\n",
       "                                                      &#x27;C&#x27;: 4, &#x27;D&#x27;: 5, &#x27;E&#x27;: 6,\n",
       "                                                      &#x27;HR&#x27;: 7, &#x27;NC&#x27;: 0}}])),\n",
       "                (&#x27;ordinalencoder-2&#x27;, OrdinalEncoder(cols=[], mapping=[])),\n",
       "                (&#x27;randomforestclassifier&#x27;,\n",
       "                 RandomForestClassifier(max_depth=15, max_features=&#x27;log2&#x27;,\n",
       "                                        max_samples=0.5, n_estimators=400,\n",
       "                                        oob_score=True))])</pre><b>In a Jupyter environment, please rerun this cell to show the HTML representation or trust the notebook. <br />On GitHub, the HTML representation is unable to render, please try loading this page with nbviewer.org.</b></div><div class=\"sk-container\" hidden><div class=\"sk-item sk-dashed-wrapped\"><div class=\"sk-label-container\"><div class=\"sk-label sk-toggleable\"><input class=\"sk-toggleable__control sk-hidden--visually\" id=\"sk-estimator-id-43\" type=\"checkbox\" ><label for=\"sk-estimator-id-43\" class=\"sk-toggleable__label sk-toggleable__label-arrow\">Pipeline</label><div class=\"sk-toggleable__content\"><pre>Pipeline(steps=[(&#x27;ordinalencoder-1&#x27;,\n",
       "                 OrdinalEncoder(cols=[&#x27;ProsperRating&#x27;],\n",
       "                                mapping=[{&#x27;col&#x27;: &#x27;ProsperRating&#x27;,\n",
       "                                          &#x27;mapping&#x27;: {&#x27;A&#x27;: 2, &#x27;AA&#x27;: 1, &#x27;B&#x27;: 3,\n",
       "                                                      &#x27;C&#x27;: 4, &#x27;D&#x27;: 5, &#x27;E&#x27;: 6,\n",
       "                                                      &#x27;HR&#x27;: 7, &#x27;NC&#x27;: 0}}])),\n",
       "                (&#x27;ordinalencoder-2&#x27;, OrdinalEncoder(cols=[], mapping=[])),\n",
       "                (&#x27;randomforestclassifier&#x27;,\n",
       "                 RandomForestClassifier(max_depth=15, max_features=&#x27;log2&#x27;,\n",
       "                                        max_samples=0.5, n_estimators=400,\n",
       "                                        oob_score=True))])</pre></div></div></div><div class=\"sk-serial\"><div class=\"sk-item\"><div class=\"sk-estimator sk-toggleable\"><input class=\"sk-toggleable__control sk-hidden--visually\" id=\"sk-estimator-id-44\" type=\"checkbox\" ><label for=\"sk-estimator-id-44\" class=\"sk-toggleable__label sk-toggleable__label-arrow\">OrdinalEncoder</label><div class=\"sk-toggleable__content\"><pre>OrdinalEncoder(cols=[&#x27;ProsperRating&#x27;],\n",
       "               mapping=[{&#x27;col&#x27;: &#x27;ProsperRating&#x27;,\n",
       "                         &#x27;mapping&#x27;: {&#x27;A&#x27;: 2, &#x27;AA&#x27;: 1, &#x27;B&#x27;: 3, &#x27;C&#x27;: 4, &#x27;D&#x27;: 5,\n",
       "                                     &#x27;E&#x27;: 6, &#x27;HR&#x27;: 7, &#x27;NC&#x27;: 0}}])</pre></div></div></div><div class=\"sk-item\"><div class=\"sk-estimator sk-toggleable\"><input class=\"sk-toggleable__control sk-hidden--visually\" id=\"sk-estimator-id-45\" type=\"checkbox\" ><label for=\"sk-estimator-id-45\" class=\"sk-toggleable__label sk-toggleable__label-arrow\">OrdinalEncoder</label><div class=\"sk-toggleable__content\"><pre>OrdinalEncoder(cols=[], mapping=[])</pre></div></div></div><div class=\"sk-item\"><div class=\"sk-estimator sk-toggleable\"><input class=\"sk-toggleable__control sk-hidden--visually\" id=\"sk-estimator-id-46\" type=\"checkbox\" ><label for=\"sk-estimator-id-46\" class=\"sk-toggleable__label sk-toggleable__label-arrow\">RandomForestClassifier</label><div class=\"sk-toggleable__content\"><pre>RandomForestClassifier(max_depth=15, max_features=&#x27;log2&#x27;, max_samples=0.5,\n",
       "                       n_estimators=400, oob_score=True)</pre></div></div></div></div></div></div></div>"
      ],
      "text/plain": [
       "Pipeline(steps=[('ordinalencoder-1',\n",
       "                 OrdinalEncoder(cols=['ProsperRating'],\n",
       "                                mapping=[{'col': 'ProsperRating',\n",
       "                                          'mapping': {'A': 2, 'AA': 1, 'B': 3,\n",
       "                                                      'C': 4, 'D': 5, 'E': 6,\n",
       "                                                      'HR': 7, 'NC': 0}}])),\n",
       "                ('ordinalencoder-2', OrdinalEncoder(cols=[], mapping=[])),\n",
       "                ('randomforestclassifier',\n",
       "                 RandomForestClassifier(max_depth=15, max_features='log2',\n",
       "                                        max_samples=0.5, n_estimators=400,\n",
       "                                        oob_score=True))])"
      ]
     },
     "execution_count": 864,
     "metadata": {},
     "output_type": "execute_result"
    }
   ],
   "source": [
    "#Train Model of X_final\n",
    "\n",
    "model_final = rf_modelling(X_final, y_train)\n",
    "model_final"
   ]
  },
  {
   "cell_type": "code",
   "execution_count": 866,
   "id": "04334d2f",
   "metadata": {},
   "outputs": [
    {
     "data": {
      "text/plain": [
       "0.7041666666666667"
      ]
     },
     "execution_count": 866,
     "metadata": {},
     "output_type": "execute_result"
    }
   ],
   "source": [
    "#Check oob_score\n",
    "extract_rf(model_final).oob_score_"
   ]
  },
  {
   "cell_type": "code",
   "execution_count": null,
   "id": "10fa8a76",
   "metadata": {},
   "outputs": [],
   "source": [
    "rf_final = extract_rf(model_final)"
   ]
  },
  {
   "cell_type": "code",
   "execution_count": 871,
   "id": "317d3440",
   "metadata": {},
   "outputs": [
    {
     "data": {
      "text/plain": [
       "0.7098826270047487"
      ]
     },
     "execution_count": 871,
     "metadata": {},
     "output_type": "execute_result"
    }
   ],
   "source": [
    "accuracy_score(y_test, extract_rf(model_final).predict(X_test_final))\n",
    "#accuracy_score(y_test, model_final.predict(X_test[X_test_final.columns]))"
   ]
  },
  {
   "cell_type": "markdown",
   "id": "56691f83",
   "metadata": {},
   "source": [
    "This model looks nicer than at the very begining in which case we obtained an increase of close to 2% by adjusting our feature importance. However, I must note at this point an experimental design flop from my end in which case I used the test set as I would a validation set. The reason was mainly because of the resillience of random forest to overfitting which once I identified in the first test I did, I then went on to use it as a validation set. On the other end, on future iterations using other models, this same experimental flop might spill into their iterations."
   ]
  },
  {
   "cell_type": "markdown",
   "id": "9d06626c",
   "metadata": {},
   "source": [
    "**OOB SCORE** OOB Score also known as out of bag score refers to the model score (in the case of classification, the accuracy score) averaged over each each row. In practise what happens is that while a particular tree(in the forest) uses only a subsample of the whole dataset to train the tree. After training the tree, the model generated is then tested on the held out datasets that were not used in training. This serves as an internal validation sets for the trees. Such that eventually after training, there are multiple accuracy scores registered for each different rows which are averaged over the rows and over the columns and the score is obtained."
   ]
  },
  {
   "cell_type": "markdown",
   "id": "948bbe71",
   "metadata": {},
   "source": [
    "### Model Iteration continues..."
   ]
  }
 ],
 "metadata": {
  "kernelspec": {
   "display_name": "Python 3 (ipykernel)",
   "language": "python",
   "name": "python3"
  },
  "language_info": {
   "codemirror_mode": {
    "name": "ipython",
    "version": 3
   },
   "file_extension": ".py",
   "mimetype": "text/x-python",
   "name": "python",
   "nbconvert_exporter": "python",
   "pygments_lexer": "ipython3",
   "version": "3.8.5"
  }
 },
 "nbformat": 4,
 "nbformat_minor": 5
}
